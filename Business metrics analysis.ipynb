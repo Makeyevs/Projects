{
 "cells": [
  {
   "cell_type": "markdown",
   "metadata": {},
   "source": [
    "---\n",
    "\n",
    "**<font color=\"green\">Комментарий ревьюера V5</font>**\n",
    "\n",
    "Олег, приветствую! Продолжаем\n",
    "\n",
    "\n",
    "---\n"
   ]
  },
  {
   "cell_type": "markdown",
   "metadata": {},
   "source": [
    "Юлий, привет. Я все испраивл, возможно есть косяки в визуализации, мне не хватает времени. Но в целом все вроде б неплохо. Если ты найдешь еще какие то проблемы( хотя я оч много времени потратил, ты их не нашел) можешь пожайлста более точно указать где проблема и как ее исправить. Спасибо"
   ]
  },
  {
   "cell_type": "markdown",
   "metadata": {},
   "source": [
    "---\n",
    "\n",
    "**<font color=\"green\">Комментарий ревьюера V4</font>**\n",
    "\n",
    "Привет, Олег! Это непростой проект и ты отлично справляешься :)\n",
    "\n",
    "\n",
    "---\n"
   ]
  },
  {
   "cell_type": "markdown",
   "metadata": {},
   "source": [
    "---\n",
    "\n",
    "**<font color=\"green\">Комментарий ревьюера V2</font>**\n",
    "\n",
    "Олег, привет! Спасибо за доработку задания\n",
    "\n",
    "\n",
    "---\n"
   ]
  },
  {
   "cell_type": "markdown",
   "metadata": {},
   "source": [
    "---\n",
    "\n",
    "<div class=\"alert alert-block alert-success\">\n",
    "    \n",
    "\n",
    "### Комментарий от ревьюера V3\n",
    "Когда проводим когортный анализ:\n",
    "1. Формируем когорту по целевому событию (например первая покупка или первый визит)\n",
    "2. Выбираем период для когорты (например месяц)\n",
    "3. считаем размер когорты (из нулевого периода) , периоды жизни, количество пользователей из когорты в периоды жизни когорты, которые выполняют целевое событие\n",
    "    \n",
    "    \n",
    "- **ARPU (средний чек на пользователя когорты)** - выручка по периоду жизни / размер когорты (все пользователи уники из 0 периода) - видим сколько один пользователь когорты приносит денег - этот же параметр накопительно - LTV - показывает сколько зарабатываем на пользователе когорты с течением времени\n",
    "    \n",
    "- **ARPPU (средний чек на платящего пользователя)** - выручка по периоду жизни / количество платящих пользователей - показывает сколько в среднем приносят платящие , активные пользователи\n",
    "\n",
    "</div>\n",
    "\n",
    "---\n"
   ]
  },
  {
   "cell_type": "markdown",
   "metadata": {},
   "source": [
    "---\n",
    "\n",
    "**<font color=\"green\">Комментарий ревьюера</font>**\n",
    "\n",
    "Привет, Олег! Спасибо тебе за выполненное задание!\n",
    "Меня зовут Юлий Афанасоглу, я буду проверять твою работу. Со мной можно на “ты” :)\n",
    "\n",
    "По ходу тетрадки ты найдешь комментарии к проекту, они будут в отдельных ячейках Markdown с заголовком «Комментарий ревьюера». Постарайся учесть эти комментарии для дальнейших проектов.\n",
    "\n",
    "Пожалуйста, не удаляй комментарии. Будет здорово, если для своих ответов ты тоже выберешь какой-то **<font color=\"blue\">заметный цвет</font>**  или **формат**, так мне будет легче отследить изменения.\n",
    "\n",
    "---\n",
    "\n",
    "Я буду красить комментарии цветом:\n",
    "\n",
    "<div class=\"alert alert-block alert-danger\">\n",
    "    \n",
    "\n",
    "### Комментарий от ревьюера\n",
    "\n",
    "Такой комментарий нужно исправить обязательно, он критически влияет на удачное выполнение проекта.\n",
    "</div>\n",
    "    \n",
    "---\n",
    "\n",
    "<div class=\"alert alert-block alert-warning\">\n",
    "    \n",
    "\n",
    "### Комментарий от ревьюера\n",
    "\n",
    "\n",
    "Такой комментарий является рекомендацией или советом. Можешь использовать их на своё усмотрение.\n",
    "</div>\n",
    "\n",
    "---\n",
    "\n",
    "<div class=\"alert alert-block alert-success\">\n",
    "    \n",
    "\n",
    "### Комментарий от ревьюера\n",
    "\n",
    "Такой комментарий  говорит о том, что было сделано что-то качественное и правильное =)\n",
    "</div>\n",
    "\n",
    "---\n"
   ]
  },
  {
   "cell_type": "markdown",
   "metadata": {},
   "source": [
    "# Аналитика в Яндекс.Афише"
   ]
  },
  {
   "cell_type": "markdown",
   "metadata": {},
   "source": [
    " **Цель** :помочь маркетологам оптимизировать маркетинговые затраты"
   ]
  },
  {
   "cell_type": "markdown",
   "metadata": {},
   "source": [
    "##### План исследования\n",
    " * 1) Проведем первчный анализ исходных данных, определим проблемные места, сформулируем методы решения\n",
    " * 2) На основе первичного анализа проведем предобработку данных, приведем к корректному виду\n",
    " * 3) Cформируем таблицу, которую будем использовать для исследований\n",
    " * 3) Изучим базовые занчения, проведем необходимые исследования\n",
    " \n",
    " "
   ]
  },
  {
   "cell_type": "markdown",
   "metadata": {},
   "source": [
    "---\n",
    "\n",
    "<div class=\"alert alert-block alert-success\">\n",
    "    \n",
    "\n",
    "### Комментарий от ревьюера V2\n",
    "\n",
    "Отличный старт! Оглавление, цель работы, информация по исходным данным -- супер, что не забываешь про такие детали.\n",
    "</div>\n",
    "\n",
    "---\n"
   ]
  },
  {
   "cell_type": "markdown",
   "metadata": {},
   "source": [
    "---\n",
    "\n",
    "\n",
    "<div class=\"alert alert-block alert-danger\">\n",
    "    \n",
    "\n",
    "### Комментарий от ревьюера\n",
    "\n",
    "\n",
    "Я заметил, что ячейки в твоей тетрадке начинаются не с 1. Перед отправкой работы рекомендую перезапускать ноутбук (Kernel -> Restart & Run All), чтобы убедиться, что все ячейки выполняются корректно\n",
    "    \n",
    "PS. К сожалению не могу приступить к проверке, т.к. твой код не отработал до конца - есть ошибки - их нужно устранить.\n",
    "    \n",
    "Я просмотрел твою работу, что бросилось в глаза (нужно доработать):\n",
    "- необходимо поработать с визуализацией (активность пользователей, когортный анализ в виде хитмапов - важно не забыть заголовки и подписи к осям)\n",
    "- не увидел расчет и значение среднего чека, LTV для когорт, проживших одинаковое количество (суммировать LTV для когорт, проживших не одинаковок количество периодов не корректно)\n",
    "- нужно добавить выводы и комментарии внутри разделов и выводы по разделам (учесть бизнес-контекст рассчитанных показателей и пояснить что значат рассчитанные метрики для бизнеса)\n",
    "- не увидел расчета стоимости привлечения по источникам\n",
    "- еще стоит поработать с общим выводом - он должен содержать результаты всего исследования и блок \"Рекомендации\"\n",
    "    \n",
    "Если у тебя есть вопросы к материалу проекта или сложности с выполнением - ты можешь обратиться к преподавателю по проекту \n",
    "    \n",
    "Жду исправленную версию :)\n",
    "\n",
    "</div>\n",
    "    \t\n",
    "---\n"
   ]
  },
  {
   "cell_type": "code",
   "execution_count": 1,
   "metadata": {},
   "outputs": [],
   "source": [
    "import pandas as pd\n",
    "import matplotlib.pyplot as plt\n",
    "import numpy as np\n",
    "from scipy import stats as st\n",
    "import seaborn as sns\n",
    "\n",
    "\n",
    "%matplotlib inline"
   ]
  },
  {
   "cell_type": "code",
   "execution_count": 2,
   "metadata": {},
   "outputs": [],
   "source": [
    "df_visits = pd.read_csv('/datasets/visits_log.csv') #лог сервера с информацией о посещениях сайта\n",
    "df_orders = pd.read_csv('/datasets/orders_log.csv') # информация о заказах\n",
    "df_costs =  pd.read_csv('/datasets/costs.csv') # информация о затратах на маркетинг\n",
    "retention = pd.read_csv('/datasets/visits_log.csv')\n",
    "device = pd.read_csv('/datasets/visits_log.csv')\n",
    "orders = pd.read_csv('/datasets/orders_log.csv')\n",
    "\n"
   ]
  },
  {
   "cell_type": "code",
   "execution_count": 3,
   "metadata": {},
   "outputs": [],
   "source": [
    "retention.columns = retention.columns.str.lower()\n",
    "retention.rename(columns={'end ts': 'end_ts','source id': 'source_id', 'start ts': 'start_ts'}, inplace=True) "
   ]
  },
  {
   "cell_type": "markdown",
   "metadata": {},
   "source": [
    "##### Проведем первинчый анализ таблиц на корректность"
   ]
  },
  {
   "cell_type": "code",
   "execution_count": 4,
   "metadata": {},
   "outputs": [
    {
     "name": "stdout",
     "output_type": "stream",
     "text": [
      "<class 'pandas.core.frame.DataFrame'>\n",
      "RangeIndex: 359400 entries, 0 to 359399\n",
      "Data columns (total 5 columns):\n",
      "device       359400 non-null object\n",
      "end ts       359400 non-null object\n",
      "source id    359400 non-null int64\n",
      "start ts     359400 non-null object\n",
      "uid          359400 non-null uint64\n",
      "dtypes: int64(1), object(3), uint64(1)\n",
      "memory usage: 13.7+ MB\n"
     ]
    }
   ],
   "source": [
    "#df_visits\n",
    "df_visits.columns = df_visits.columns.str.lower() # Приведем ряд столбцов к нижнему регистру\n",
    "device.columns =  device.columns.str.lower()\n",
    "df_visits.info()\n"
   ]
  },
  {
   "cell_type": "code",
   "execution_count": 5,
   "metadata": {},
   "outputs": [
    {
     "name": "stdout",
     "output_type": "stream",
     "text": [
      "<class 'pandas.core.frame.DataFrame'>\n",
      "RangeIndex: 50415 entries, 0 to 50414\n",
      "Data columns (total 3 columns):\n",
      "buy ts     50415 non-null object\n",
      "revenue    50415 non-null float64\n",
      "uid        50415 non-null uint64\n",
      "dtypes: float64(1), object(1), uint64(1)\n",
      "memory usage: 1.2+ MB\n"
     ]
    }
   ],
   "source": [
    "#df_orders\n",
    "df_orders.columns = df_orders.columns.str.lower() # Приведем ряд столбцов к нижнему регистру\n",
    "orders.columns = orders.columns.str.lower()\n",
    "df_orders.info()"
   ]
  },
  {
   "cell_type": "code",
   "execution_count": 6,
   "metadata": {},
   "outputs": [
    {
     "name": "stdout",
     "output_type": "stream",
     "text": [
      "<class 'pandas.core.frame.DataFrame'>\n",
      "RangeIndex: 2542 entries, 0 to 2541\n",
      "Data columns (total 3 columns):\n",
      "source_id    2542 non-null int64\n",
      "dt           2542 non-null object\n",
      "costs        2542 non-null float64\n",
      "dtypes: float64(1), int64(1), object(1)\n",
      "memory usage: 59.7+ KB\n"
     ]
    }
   ],
   "source": [
    "df_costs.info()"
   ]
  },
  {
   "cell_type": "markdown",
   "metadata": {},
   "source": [
    "#### Вывод"
   ]
  },
  {
   "cell_type": "markdown",
   "metadata": {},
   "source": [
    "Из первичного анализа мы видим,что таблицы в целом корректны.Но нужно еще заменить названия столлбцов и  тип данных в некоторых таюлицах. А так же проверить таблицу на дубликаты."
   ]
  },
  {
   "cell_type": "markdown",
   "metadata": {},
   "source": [
    "### Шаг 2. Предобработка данных"
   ]
  },
  {
   "cell_type": "markdown",
   "metadata": {},
   "source": [
    "Таблица *df_visits*"
   ]
  },
  {
   "cell_type": "code",
   "execution_count": 7,
   "metadata": {},
   "outputs": [],
   "source": [
    "# Приведем названия столбцов в нормальный вид\n",
    "df_visits.rename(columns={'end ts': 'end_ts','source id': 'source_id', 'start ts': 'start_ts'}, inplace=True) \n"
   ]
  },
  {
   "cell_type": "code",
   "execution_count": 8,
   "metadata": {},
   "outputs": [],
   "source": [
    "# Заменем тип данных в стобцах с врмеменем\n",
    "df_visits['end_ts'] = pd.to_datetime(df_visits['end_ts'], format=\"%Y-%m-%d %H:%M:%S\")\n",
    "df_visits['start_ts'] = pd.to_datetime(df_visits['start_ts'], format=\"%Y-%m-%d %H:%M:%S\")"
   ]
  },
  {
   "cell_type": "code",
   "execution_count": 9,
   "metadata": {},
   "outputs": [
    {
     "data": {
      "text/plain": [
       "0"
      ]
     },
     "execution_count": 9,
     "metadata": {},
     "output_type": "execute_result"
    }
   ],
   "source": [
    "# Проверяем на дубликаты\n",
    "df_visits.duplicated().sum()"
   ]
  },
  {
   "cell_type": "markdown",
   "metadata": {},
   "source": [
    "Таблица *df_orders*"
   ]
  },
  {
   "cell_type": "code",
   "execution_count": 10,
   "metadata": {},
   "outputs": [],
   "source": [
    "# Приведем названия столбцов в нормальный вид\n",
    "df_orders.rename(columns={'buy ts': 'buy_ts'}, inplace=True)\n",
    "orders.rename(columns={'buy ts': 'buy_ts'}, inplace=True)\n"
   ]
  },
  {
   "cell_type": "code",
   "execution_count": 11,
   "metadata": {},
   "outputs": [],
   "source": [
    "# Заменем тип данных в стобцах с врмеменем\n",
    "#df_orders['buy_ts'] = pd.to_datetime(df_orders['buy_ts'], format=\"%Y-%m-%d %H:%M:%S\")"
   ]
  },
  {
   "cell_type": "code",
   "execution_count": 12,
   "metadata": {},
   "outputs": [
    {
     "data": {
      "text/plain": [
       "0"
      ]
     },
     "execution_count": 12,
     "metadata": {},
     "output_type": "execute_result"
    }
   ],
   "source": [
    "# Проверяем на дубликаты\n",
    "df_orders.duplicated().sum()"
   ]
  },
  {
   "cell_type": "markdown",
   "metadata": {},
   "source": [
    "Таблица *df_costs*"
   ]
  },
  {
   "cell_type": "code",
   "execution_count": 13,
   "metadata": {},
   "outputs": [
    {
     "data": {
      "text/plain": [
       "0"
      ]
     },
     "execution_count": 13,
     "metadata": {},
     "output_type": "execute_result"
    }
   ],
   "source": [
    "# Проверяем на дубликаты\n",
    "df_costs.duplicated().sum()"
   ]
  },
  {
   "cell_type": "markdown",
   "metadata": {},
   "source": [
    "#### Вывод"
   ]
  },
  {
   "cell_type": "markdown",
   "metadata": {},
   "source": [
    "Мы привели таблицы к корректному виду. Заменилили названия столбцов для удобной работы, заменили тип данных связанных с временем, привели названия столбцов к одному регистру, проверили на дубликаты. Все готово для дальнейших исследований"
   ]
  },
  {
   "cell_type": "markdown",
   "metadata": {},
   "source": [
    "---\n",
    "\n",
    "<div class=\"alert alert-block alert-success\">\n",
    "    \n",
    "\n",
    "### Комментарий от ревьюера V2\n",
    "\n",
    "Хорошая подробная предобработка. Отдельное спасибо за итоговые выводы\n",
    "    \n",
    "\n",
    "</div>\n",
    "\n",
    "---\n"
   ]
  },
  {
   "cell_type": "markdown",
   "metadata": {},
   "source": [
    "### Шаг 3.Исследование данных"
   ]
  },
  {
   "cell_type": "markdown",
   "metadata": {},
   "source": [
    "###### *ПРОДУКТ*"
   ]
  },
  {
   "cell_type": "code",
   "execution_count": 14,
   "metadata": {},
   "outputs": [
    {
     "data": {
      "text/html": [
       "<div>\n",
       "<style scoped>\n",
       "    .dataframe tbody tr th:only-of-type {\n",
       "        vertical-align: middle;\n",
       "    }\n",
       "\n",
       "    .dataframe tbody tr th {\n",
       "        vertical-align: top;\n",
       "    }\n",
       "\n",
       "    .dataframe thead th {\n",
       "        text-align: right;\n",
       "    }\n",
       "</style>\n",
       "<table border=\"1\" class=\"dataframe\">\n",
       "  <thead>\n",
       "    <tr style=\"text-align: right;\">\n",
       "      <th></th>\n",
       "      <th>device</th>\n",
       "      <th>end_ts</th>\n",
       "      <th>source_id</th>\n",
       "      <th>start_ts</th>\n",
       "      <th>uid</th>\n",
       "    </tr>\n",
       "  </thead>\n",
       "  <tbody>\n",
       "    <tr>\n",
       "      <td>0</td>\n",
       "      <td>touch</td>\n",
       "      <td>2017-12-20 17:38:00</td>\n",
       "      <td>4</td>\n",
       "      <td>2017-12-20 17:20:00</td>\n",
       "      <td>16879256277535980062</td>\n",
       "    </tr>\n",
       "    <tr>\n",
       "      <td>1</td>\n",
       "      <td>desktop</td>\n",
       "      <td>2018-02-19 17:21:00</td>\n",
       "      <td>2</td>\n",
       "      <td>2018-02-19 16:53:00</td>\n",
       "      <td>104060357244891740</td>\n",
       "    </tr>\n",
       "    <tr>\n",
       "      <td>2</td>\n",
       "      <td>touch</td>\n",
       "      <td>2017-07-01 01:54:00</td>\n",
       "      <td>5</td>\n",
       "      <td>2017-07-01 01:54:00</td>\n",
       "      <td>7459035603376831527</td>\n",
       "    </tr>\n",
       "    <tr>\n",
       "      <td>3</td>\n",
       "      <td>desktop</td>\n",
       "      <td>2018-05-20 11:23:00</td>\n",
       "      <td>9</td>\n",
       "      <td>2018-05-20 10:59:00</td>\n",
       "      <td>16174680259334210214</td>\n",
       "    </tr>\n",
       "    <tr>\n",
       "      <td>4</td>\n",
       "      <td>desktop</td>\n",
       "      <td>2017-12-27 14:06:00</td>\n",
       "      <td>3</td>\n",
       "      <td>2017-12-27 14:06:00</td>\n",
       "      <td>9969694820036681168</td>\n",
       "    </tr>\n",
       "  </tbody>\n",
       "</table>\n",
       "</div>"
      ],
      "text/plain": [
       "    device              end_ts  source_id            start_ts  \\\n",
       "0    touch 2017-12-20 17:38:00          4 2017-12-20 17:20:00   \n",
       "1  desktop 2018-02-19 17:21:00          2 2018-02-19 16:53:00   \n",
       "2    touch 2017-07-01 01:54:00          5 2017-07-01 01:54:00   \n",
       "3  desktop 2018-05-20 11:23:00          9 2018-05-20 10:59:00   \n",
       "4  desktop 2017-12-27 14:06:00          3 2017-12-27 14:06:00   \n",
       "\n",
       "                    uid  \n",
       "0  16879256277535980062  \n",
       "1    104060357244891740  \n",
       "2   7459035603376831527  \n",
       "3  16174680259334210214  \n",
       "4   9969694820036681168  "
      ]
     },
     "execution_count": 14,
     "metadata": {},
     "output_type": "execute_result"
    }
   ],
   "source": [
    "df_visits.head(5)"
   ]
  },
  {
   "cell_type": "markdown",
   "metadata": {},
   "source": [
    "Сколько людей пользуются в день, неделю, месяц?"
   ]
  },
  {
   "cell_type": "code",
   "execution_count": 15,
   "metadata": {},
   "outputs": [],
   "source": [
    "df_visits['session_year']  = df_visits['start_ts'].dt.year\n",
    "df_visits['session_month'] = df_visits['start_ts'].dt.month\n",
    "df_visits['session_week']  = df_visits['start_ts'].dt.week\n",
    "df_visits['session_date'] = df_visits['start_ts'].dt.date"
   ]
  },
  {
   "cell_type": "code",
   "execution_count": 16,
   "metadata": {},
   "outputs": [],
   "source": [
    "mau_total = df_visits.groupby('session_month').agg({'uid': 'nunique'}).mean()\n",
    "dau_total = df_visits.groupby('session_date').agg({'uid': 'nunique'}).mean()\n",
    "wau_total = df_visits.groupby(['session_year', 'session_week']).agg({'uid': 'nunique'}).mean()"
   ]
  },
  {
   "cell_type": "code",
   "execution_count": 17,
   "metadata": {},
   "outputs": [
    {
     "data": {
      "text/plain": [
       "23228"
      ]
     },
     "execution_count": 17,
     "metadata": {},
     "output_type": "execute_result"
    }
   ],
   "source": [
    "int(mau_total) # Кол -во уникальных пользователей в месяц"
   ]
  },
  {
   "cell_type": "code",
   "execution_count": 18,
   "metadata": {},
   "outputs": [
    {
     "data": {
      "text/plain": [
       "5716"
      ]
     },
     "execution_count": 18,
     "metadata": {},
     "output_type": "execute_result"
    }
   ],
   "source": [
    "int(wau_total) # Кол -во уникальных пользователей в неделю"
   ]
  },
  {
   "cell_type": "code",
   "execution_count": 19,
   "metadata": {
    "scrolled": true
   },
   "outputs": [
    {
     "data": {
      "text/plain": [
       "907"
      ]
     },
     "execution_count": 19,
     "metadata": {},
     "output_type": "execute_result"
    }
   ],
   "source": [
    "int(dau_total) # Кол -во уникальных пользователей в день"
   ]
  },
  {
   "cell_type": "markdown",
   "metadata": {},
   "source": [
    "---\n",
    "\n",
    "<div class=\"alert alert-block alert-warning\">\n",
    "    \n",
    "\n",
    "### Комментарий от ревьюера V2\n",
    "Расчет верный. Также полезно визуализировать активность клиентов по периодам, чтобы увидеть интересные инсайты\n",
    "</div>\n",
    "\n",
    "---\n"
   ]
  },
  {
   "cell_type": "markdown",
   "metadata": {},
   "source": [
    "Сколько сессий в день?"
   ]
  },
  {
   "cell_type": "code",
   "execution_count": 20,
   "metadata": {},
   "outputs": [],
   "source": [
    "sessions_per_day = df_visits.groupby(['session_date']).agg({'uid': ['count','nunique']})\n",
    "sessions_per_day.columns = ['n_sessions', 'n_users']\n"
   ]
  },
  {
   "cell_type": "code",
   "execution_count": 21,
   "metadata": {},
   "outputs": [
    {
     "data": {
      "text/plain": [
       "987.3626373626373"
      ]
     },
     "execution_count": 21,
     "metadata": {},
     "output_type": "execute_result"
    }
   ],
   "source": [
    "sessions_per_day['n_sessions'].mean()"
   ]
  },
  {
   "cell_type": "markdown",
   "metadata": {},
   "source": [
    "Кол - во сессий в день на человека"
   ]
  },
  {
   "cell_type": "code",
   "execution_count": 22,
   "metadata": {},
   "outputs": [
    {
     "data": {
      "text/plain": [
       "1.082169644003972"
      ]
     },
     "execution_count": 22,
     "metadata": {},
     "output_type": "execute_result"
    }
   ],
   "source": [
    "sessions_per_user = df_visits.groupby('session_date').agg({'uid': ['count','nunique']})\n",
    "sessions_per_user.columns = ['n_sessions', 'n_users']\n",
    "sessions_per_user['sessions_per_user'] = sessions_per_user['n_sessions'] / sessions_per_user['n_users']\n",
    "sessions_per_user['sessions_per_user'].mean()"
   ]
  },
  {
   "cell_type": "markdown",
   "metadata": {},
   "source": [
    "Сколько длится одна сессия?"
   ]
  },
  {
   "cell_type": "code",
   "execution_count": 23,
   "metadata": {},
   "outputs": [
    {
     "data": {
      "text/plain": [
       "count    359400.000000\n",
       "mean        643.506489\n",
       "std        1016.334786\n",
       "min           0.000000\n",
       "25%         120.000000\n",
       "50%         300.000000\n",
       "75%         840.000000\n",
       "max       84480.000000\n",
       "Name: session_duration_sec, dtype: float64"
      ]
     },
     "execution_count": 23,
     "metadata": {},
     "output_type": "execute_result"
    }
   ],
   "source": [
    "df_visits['session_duration_sec'] = (df_visits['end_ts'] - df_visits['start_ts']).dt.seconds\n",
    "df_visits['session_duration_sec'].describe()"
   ]
  },
  {
   "cell_type": "code",
   "execution_count": 24,
   "metadata": {},
   "outputs": [
    {
     "data": {
      "text/plain": [
       "0    60\n",
       "dtype: int64"
      ]
     },
     "execution_count": 24,
     "metadata": {},
     "output_type": "execute_result"
    }
   ],
   "source": [
    "df_visits['session_duration_sec'].mode()"
   ]
  },
  {
   "cell_type": "code",
   "execution_count": 25,
   "metadata": {},
   "outputs": [
    {
     "data": {
      "image/png": "[encoded data removed]",
      "text/plain": [
       "<Figure size 432x288 with 1 Axes>"
      ]
     },
     "metadata": {
      "needs_background": "light"
     },
     "output_type": "display_data"
    }
   ],
   "source": [
    "df_visits['session_duration_sec'].hist(bins = 100, range=(0,2200))\n",
    "plt.title('Продолжительность сессии'+ \"\\n\")\n",
    "plt.xlabel('Число сессий')\n",
    "plt.ylabel('Секунды')\n",
    "\n",
    "plt.show()"
   ]
  },
  {
   "cell_type": "markdown",
   "metadata": {},
   "source": [
    "Мы имеем огромный выбросы, корректней будет взять медианное значение оно будет ровняться 300 секундам (5 минут). В целом люди находятся на ЯндексАфише  от 2 до 14 минут"
   ]
  },
  {
   "cell_type": "markdown",
   "metadata": {},
   "source": [
    "---\n",
    "\n",
    "<div class=\"alert alert-block alert-danger\">\n",
    "    \n",
    "\n",
    "### Комментарий от ревьюера V3\n",
    "\n",
    "Нужно подправить график: он должен содержать заголовок и подписи к осям. \n",
    "    \n",
    "И заодно проверь остальные графики - это общее требование\n",
    "</div>\n",
    "\n",
    "---\n"
   ]
  },
  {
   "cell_type": "markdown",
   "metadata": {},
   "source": [
    "---\n",
    "\n",
    "<div class=\"alert alert-block alert-success\">\n",
    "    \n",
    "\n",
    "### Комментарий от ревьюера V4\n",
    "\n",
    "ОК\n",
    "</div>\n",
    "\n",
    "---\n"
   ]
  },
  {
   "cell_type": "markdown",
   "metadata": {},
   "source": [
    "---\n",
    "\n",
    "<div class=\"alert alert-block alert-danger\">\n",
    "    \n",
    "\n",
    "### Комментарий от ревьюера V2\n",
    "\n",
    "Здесь также полезно сделать визуализацию (например, гистограмму) и подумать над параметром, для описания продолжительности сессии (кроме среднего), на основании визуализации\n",
    "\n",
    "</div>\n",
    "\n",
    "---\n"
   ]
  },
  {
   "cell_type": "markdown",
   "metadata": {},
   "source": [
    "---\n",
    "\n",
    "<div class=\"alert alert-block alert-warning\">\n",
    "    \n",
    "\n",
    "### Комментарий от ревьюера V3\n",
    "    \n",
    "OK\n",
    "\n",
    "Также для такого вида распределения полезно использовать моду - наиболее частотное значение\n",
    "\n",
    "</div>\n",
    "\n",
    "---\n"
   ]
  },
  {
   "cell_type": "markdown",
   "metadata": {},
   "source": [
    "Как часто люди возвращаются?"
   ]
  },
  {
   "cell_type": "markdown",
   "metadata": {},
   "source": [
    "*sticky factor*"
   ]
  },
  {
   "cell_type": "code",
   "execution_count": 26,
   "metadata": {
    "scrolled": true
   },
   "outputs": [
    {
     "name": "stdout",
     "output_type": "stream",
     "text": [
      "uid    15.884409\n",
      "dtype: float64\n",
      "uid    3.90897\n",
      "dtype: float64\n"
     ]
    }
   ],
   "source": [
    "sticky_mau = (dau_total / mau_total) * 100\n",
    "sticky_wau = (dau_total / wau_total) * 100\n",
    "print(sticky_wau)\n",
    "print(sticky_mau)"
   ]
  },
  {
   "cell_type": "markdown",
   "metadata": {},
   "source": [
    "*Retation rate*"
   ]
  },
  {
   "cell_type": "code",
   "execution_count": 27,
   "metadata": {},
   "outputs": [
    {
     "data": {
      "text/html": [
       "<div>\n",
       "<style scoped>\n",
       "    .dataframe tbody tr th:only-of-type {\n",
       "        vertical-align: middle;\n",
       "    }\n",
       "\n",
       "    .dataframe tbody tr th {\n",
       "        vertical-align: top;\n",
       "    }\n",
       "\n",
       "    .dataframe thead th {\n",
       "        text-align: right;\n",
       "    }\n",
       "</style>\n",
       "<table border=\"1\" class=\"dataframe\">\n",
       "  <thead>\n",
       "    <tr style=\"text-align: right;\">\n",
       "      <th></th>\n",
       "      <th>device</th>\n",
       "      <th>end_ts</th>\n",
       "      <th>source_id</th>\n",
       "      <th>start_ts</th>\n",
       "      <th>uid</th>\n",
       "    </tr>\n",
       "  </thead>\n",
       "  <tbody>\n",
       "    <tr>\n",
       "      <td>0</td>\n",
       "      <td>touch</td>\n",
       "      <td>2017-12-20 17:38:00</td>\n",
       "      <td>4</td>\n",
       "      <td>2017-12-20 17:20:00</td>\n",
       "      <td>16879256277535980062</td>\n",
       "    </tr>\n",
       "    <tr>\n",
       "      <td>1</td>\n",
       "      <td>desktop</td>\n",
       "      <td>2018-02-19 17:21:00</td>\n",
       "      <td>2</td>\n",
       "      <td>2018-02-19 16:53:00</td>\n",
       "      <td>104060357244891740</td>\n",
       "    </tr>\n",
       "    <tr>\n",
       "      <td>2</td>\n",
       "      <td>touch</td>\n",
       "      <td>2017-07-01 01:54:00</td>\n",
       "      <td>5</td>\n",
       "      <td>2017-07-01 01:54:00</td>\n",
       "      <td>7459035603376831527</td>\n",
       "    </tr>\n",
       "    <tr>\n",
       "      <td>3</td>\n",
       "      <td>desktop</td>\n",
       "      <td>2018-05-20 11:23:00</td>\n",
       "      <td>9</td>\n",
       "      <td>2018-05-20 10:59:00</td>\n",
       "      <td>16174680259334210214</td>\n",
       "    </tr>\n",
       "    <tr>\n",
       "      <td>4</td>\n",
       "      <td>desktop</td>\n",
       "      <td>2017-12-27 14:06:00</td>\n",
       "      <td>3</td>\n",
       "      <td>2017-12-27 14:06:00</td>\n",
       "      <td>9969694820036681168</td>\n",
       "    </tr>\n",
       "  </tbody>\n",
       "</table>\n",
       "</div>"
      ],
      "text/plain": [
       "    device               end_ts  source_id             start_ts  \\\n",
       "0    touch  2017-12-20 17:38:00          4  2017-12-20 17:20:00   \n",
       "1  desktop  2018-02-19 17:21:00          2  2018-02-19 16:53:00   \n",
       "2    touch  2017-07-01 01:54:00          5  2017-07-01 01:54:00   \n",
       "3  desktop  2018-05-20 11:23:00          9  2018-05-20 10:59:00   \n",
       "4  desktop  2017-12-27 14:06:00          3  2017-12-27 14:06:00   \n",
       "\n",
       "                    uid  \n",
       "0  16879256277535980062  \n",
       "1    104060357244891740  \n",
       "2   7459035603376831527  \n",
       "3  16174680259334210214  \n",
       "4   9969694820036681168  "
      ]
     },
     "execution_count": 27,
     "metadata": {},
     "output_type": "execute_result"
    }
   ],
   "source": [
    "retention.head()"
   ]
  },
  {
   "cell_type": "code",
   "execution_count": 28,
   "metadata": {},
   "outputs": [],
   "source": [
    "first_order_date_by_customers = retention.groupby('uid')['start_ts'].min()\n",
    "first_order_date_by_customers.name = 'first_start_ts'\n",
    "retention = retention.join(first_order_date_by_customers,on='uid')\n",
    "retention['first_order_month'] = retention['first_start_ts'].astype('datetime64[M]')\n",
    "retention['order_month'] = retention['start_ts'].astype('datetime64[M]')\n"
   ]
  },
  {
   "cell_type": "code",
   "execution_count": 29,
   "metadata": {},
   "outputs": [],
   "source": [
    "retention['activity_month'] = pd.to_datetime(retention['order_month'], unit='d') - pd.to_timedelta(retention['order_month'].dt.dayofweek, unit='d')\n",
    "retention['first_activity_month'] = pd.to_datetime(retention['first_order_month'], unit='d') - pd.to_timedelta(retention['first_order_month'].dt.dayofweek, unit='d')"
   ]
  },
  {
   "cell_type": "code",
   "execution_count": 30,
   "metadata": {},
   "outputs": [],
   "source": [
    "retention['cohort_lifetime'] = retention['activity_month'] - retention['first_activity_month']\n",
    "retention['cohort_lifetime'] = retention['cohort_lifetime'] / np.timedelta64(1,'M')\n",
    "retention['cohort_lifetime'] = retention['cohort_lifetime'].round()\n",
    "retention['cohort_lifetime'] = retention['cohort_lifetime'].astype('int')"
   ]
  },
  {
   "cell_type": "code",
   "execution_count": 31,
   "metadata": {},
   "outputs": [],
   "source": [
    "cohorts = retention.groupby(['first_activity_month','cohort_lifetime']).agg({'uid':'nunique'}).reset_index()"
   ]
  },
  {
   "cell_type": "code",
   "execution_count": 32,
   "metadata": {},
   "outputs": [],
   "source": [
    "initial_users_count = cohorts[cohorts['cohort_lifetime'] == 0][['first_activity_month','uid']]\n"
   ]
  },
  {
   "cell_type": "code",
   "execution_count": 33,
   "metadata": {},
   "outputs": [],
   "source": [
    "initial_users_count = initial_users_count.rename(columns={'uid':'cohort_users'})"
   ]
  },
  {
   "cell_type": "code",
   "execution_count": 34,
   "metadata": {},
   "outputs": [],
   "source": [
    "cohorts = cohorts.merge(initial_users_count,on='first_activity_month')"
   ]
  },
  {
   "cell_type": "code",
   "execution_count": 35,
   "metadata": {},
   "outputs": [],
   "source": [
    "cohorts['retention'] = cohorts['uid']/cohorts['cohort_users']"
   ]
  },
  {
   "cell_type": "code",
   "execution_count": 36,
   "metadata": {},
   "outputs": [],
   "source": [
    "cohorts['first_session_month'] = cohorts['first_activity_month'].dt.strftime('%Y-%m')"
   ]
  },
  {
   "cell_type": "code",
   "execution_count": 37,
   "metadata": {},
   "outputs": [],
   "source": [
    "retention_pivot = cohorts.pivot_table(index='first_session_month',columns='cohort_lifetime',values='retention',aggfunc='sum')"
   ]
  },
  {
   "cell_type": "code",
   "execution_count": 38,
   "metadata": {},
   "outputs": [
    {
     "data": {
      "image/png": "[encoded data removed]",
      "text/plain": [
       "<Figure size 936x648 with 2 Axes>"
      ]
     },
     "metadata": {
      "needs_background": "light"
     },
     "output_type": "display_data"
    }
   ],
   "source": [
    "plt.figure(figsize=(13, 9))\n",
    "plt.title('Cohorts: User Retention')\n",
    "sns.heatmap(retention_pivot, annot=True, fmt='.1%', vmax= 0.1,vmin = 0, linewidths=1, linecolor='gray');"
   ]
  },
  {
   "cell_type": "markdown",
   "metadata": {},
   "source": [
    "---\n",
    "\n",
    "<div class=\"alert alert-block alert-warning\">\n",
    "    \n",
    "\n",
    "### Комментарий от ревьюера\n",
    "\n",
    "Получился наглядный хитмап для RR. Что можно улучшить:\n",
    "- при проведении когортного анализа важно обозначать явно событие, которое формирует когорту, а также период \n",
    "- Для более наглядной цветовой градации в heatmap можно использовать параметры `vmax, vmin` (например, vmax= 0.1, vmin=0)\n",
    "- для более дружелюбных подписей оси У попробуй сделать так: создать новый столбец `cohorts['first_session_month'].dt.strftime('%Y-%m')` сошлись на этот столбец при формировании pivot_table\n",
    "\n",
    "</div>\n",
    "\n",
    "---\n"
   ]
  },
  {
   "cell_type": "markdown",
   "metadata": {},
   "source": [
    " * DAU  — количество уникальных пользователей в день = 907\n",
    " * WAU  — количество уникальных пользователей в неделю = 5716\n",
    " * MAU  — количество уникальных пользователей в месяц = 23228\n",
    " * Кол - во сессий в день на человека  = 1.082\n",
    " * Кол -во сессий в день = 987\n",
    " \n",
    "*sticky factor*\n",
    " * sticky_wau = 15.884409\n",
    " * sticky_mau = 3.90897\n",
    " \n",
    "По данным sticky factor мы видим не самые лучшие резултаты, но вполне приемлимые для бизнеса они означают, что небольшая часть возвращается в приложение. Длительность средней сессии состовляет в районе 5 минут. Так же по RR мы видим,что абсолютно по всем кагортам идет снижение пользователей после 1 месяца использования налюдается резкое падение с 100% до 7-8%"
   ]
  },
  {
   "cell_type": "markdown",
   "metadata": {},
   "source": [
    "---\n",
    "\n",
    "<div class=\"alert alert-block alert-success\">\n",
    "    \n",
    "\n",
    "### Комментарий от ревьюера V2\n",
    "\n",
    "Отличный и подробный вывод по разделу. Так держать!\n",
    "\n",
    "</div>\n",
    "\n",
    "---\n"
   ]
  },
  {
   "cell_type": "markdown",
   "metadata": {},
   "source": [
    "# --------------------------------------------------------------------------------------"
   ]
  },
  {
   "cell_type": "markdown",
   "metadata": {},
   "source": [
    "_______________________________________________________________________________________________________________________________"
   ]
  },
  {
   "cell_type": "markdown",
   "metadata": {},
   "source": [
    "###### *ПРОДАЖИ*"
   ]
  },
  {
   "cell_type": "markdown",
   "metadata": {},
   "source": [
    "Для начала проанализируем сколько у нас уникальных покупателей и сколько они покупаеют"
   ]
  },
  {
   "cell_type": "code",
   "execution_count": 39,
   "metadata": {},
   "outputs": [],
   "source": [
    "first_order_date_by_customers = df_orders.groupby('uid')['buy_ts'].min()\n",
    "first_order_date_by_customers.name = 'first_buy_ts'\n",
    "df_orders = df_orders.join(first_order_date_by_customers,on='uid')\n",
    "df_orders['first_buy_ts_month'] = df_orders['first_buy_ts'].astype('datetime64[M]')\n",
    "df_orders['buy_ts_month'] = df_orders['buy_ts'].astype('datetime64[M]')\n",
    "# Формируем кагорты\n"
   ]
  },
  {
   "cell_type": "code",
   "execution_count": 40,
   "metadata": {},
   "outputs": [],
   "source": [
    "unique_uid = df_orders.pivot_table(index='first_buy_ts_month',\n",
    "    columns='buy_ts_month',\n",
    "    values='uid',\n",
    "    aggfunc='nunique')\n",
    " # Рассмотрим кагорту с уникальными пользователями, которые совершали покупки"
   ]
  },
  {
   "cell_type": "code",
   "execution_count": 41,
   "metadata": {},
   "outputs": [
    {
     "data": {
      "text/plain": [
       "<matplotlib.axes._subplots.AxesSubplot at 0x7f53de7ad0d0>"
      ]
     },
     "execution_count": 41,
     "metadata": {},
     "output_type": "execute_result"
    },
    {
     "data": {
      "image/png": "[encoded data removed]",
      "text/plain": [
       "<Figure size 936x648 with 2 Axes>"
      ]
     },
     "metadata": {
      "needs_background": "light"
     },
     "output_type": "display_data"
    }
   ],
   "source": [
    "\n",
    "plt.figure(figsize=(13, 9))\n",
    "plt.title('Кол-во уникальных пользователей по месяцам')\n",
    "sns.heatmap(unique_uid ,annot=True, fmt='.1f', linewidths=1, linecolor='grey')"
   ]
  },
  {
   "cell_type": "markdown",
   "metadata": {},
   "source": [
    "###### Промежуточный вывод"
   ]
  },
  {
   "cell_type": "markdown",
   "metadata": {},
   "source": [
    "Пользователи начинают покупать в первый месяц использования, в среднем проходит 12 часов с первого визито до первой покупки. Больше всего людей взаимодействуют с ЯндексАвишой в первый ж месяц, это обусловленно спецификой бизнеса т.к. люди в целом не ходят часто на концерты или в театр. Поэтому они приходят в ЯндексАфишу покупает сразу ж билет на меропрития и на долгое время забывают о ней"
   ]
  },
  {
   "cell_type": "code",
   "execution_count": 42,
   "metadata": {},
   "outputs": [],
   "source": [
    "sec_cost = df_orders.groupby('uid').agg({'first_buy_ts': 'min'}).reset_index()\n",
    "sec_cost.columns = ['uid', 'first_order']\n",
    "first_v= df_visits.groupby('uid').agg({'start_ts': 'min'}).reset_index()\n",
    "first_v.columns = ['uid', 'first_view']\n",
    "sec = pd.merge(first_v, sec_cost, on='uid')\n",
    "sec['first_order'] = sec['first_order'].astype('datetime64[M]')\n",
    "sec['sec'] = sec['first_order'] - sec['first_view'] \n",
    "sec['se2c'] =  sec['first_view'] - sec['first_order']\n",
    "sec['sec']= sec['sec'].dt.seconds"
   ]
  },
  {
   "cell_type": "code",
   "execution_count": 43,
   "metadata": {},
   "outputs": [
    {
     "data": {
      "text/plain": [
       "Text(0.5, 1.0, 'Распределение между первым визитом и первой покупкой')"
      ]
     },
     "execution_count": 43,
     "metadata": {},
     "output_type": "execute_result"
    },
    {
     "data": {
      "image/png": "[encoded data removed]",
      "text/plain": [
       "<Figure size 432x288 with 1 Axes>"
      ]
     },
     "metadata": {
      "needs_background": "light"
     },
     "output_type": "display_data"
    }
   ],
   "source": [
    "sec['sec'].hist(bins = 100)\n",
    "plt.title('Распределение между первым визитом и первой покупкой')"
   ]
  },
  {
   "cell_type": "code",
   "execution_count": 44,
   "metadata": {},
   "outputs": [
    {
     "data": {
      "text/plain": [
       "0    43740\n",
       "dtype: int64"
      ]
     },
     "execution_count": 44,
     "metadata": {},
     "output_type": "execute_result"
    }
   ],
   "source": [
    "sec['sec'].mode()"
   ]
  },
  {
   "cell_type": "markdown",
   "metadata": {},
   "source": [
    "в среднем проходит 12 часов с первого визито до первой покупки."
   ]
  },
  {
   "cell_type": "markdown",
   "metadata": {},
   "source": [
    "---\n",
    "\n",
    "<div class=\"alert alert-block alert-danger\">\n",
    "    \n",
    "\n",
    "### Комментарий от ревьюера V2\n",
    "\n",
    "К сожалению, потерялся ответ на вопрос \"Когда люди начинают покупать?\"\n",
    "\n",
    "</div>\n",
    "\n",
    "---\n"
   ]
  },
  {
   "cell_type": "markdown",
   "metadata": {},
   "source": [
    "---\n",
    "\n",
    "<div class=\"alert alert-block alert-danger\">\n",
    "    \n",
    "\n",
    "### Комментарий от ревьюера V3\n",
    "\n",
    "В общем, твой ответ можно принять, но если ты посмотришь на распределение между первым визитом и первой покупкой (например в секундах), твой вывод может измениться\n",
    "   \n",
    "\n",
    "</div>\n",
    "\n",
    "---\n"
   ]
  },
  {
   "cell_type": "markdown",
   "metadata": {},
   "source": [
    "---\n",
    "\n",
    "<div class=\"alert alert-block alert-success\">\n",
    "    \n",
    "\n",
    "### Комментарий от ревьюера V4\n",
    "\n",
    "ОК\n",
    "</div>\n",
    "\n",
    "---\n"
   ]
  },
  {
   "cell_type": "markdown",
   "metadata": {},
   "source": [
    "Средний чек"
   ]
  },
  {
   "cell_type": "code",
   "execution_count": 45,
   "metadata": {},
   "outputs": [],
   "source": [
    "orders_grouped_by_cohorts = df_orders.groupby(['first_buy_ts_month','buy_ts_month']).agg({'revenue':'sum','uid':'nunique'})\n",
    "orders_grouped_by_cohorts['revenue_per_user'] = orders_grouped_by_cohorts['revenue'] / orders_grouped_by_cohorts['uid']\n",
    "\n",
    "av_cost = orders_grouped_by_cohorts.pivot_table(index='first_buy_ts_month',columns='buy_ts_month',values='revenue_per_user',aggfunc='mean')\n"
   ]
  },
  {
   "cell_type": "code",
   "execution_count": 46,
   "metadata": {},
   "outputs": [],
   "source": [
    "orders_grouped_by_cohorts = orders_grouped_by_cohorts.reset_index()\n",
    "orders_grouped_by_cohorts['cohort_lifetime'] = orders_grouped_by_cohorts['buy_ts_month'] - orders_grouped_by_cohorts['first_buy_ts_month']\n",
    "orders_grouped_by_cohorts['cohort_lifetime'] = orders_grouped_by_cohorts['cohort_lifetime'] / np.timedelta64(1,'M')\n",
    "orders_grouped_by_cohorts['cohort_lifetime'] = orders_grouped_by_cohorts['cohort_lifetime'].round().astype('int')\n",
    "orders_grouped_by_cohorts['first_buy_ts_month'] = orders_grouped_by_cohorts['first_buy_ts_month'].dt.strftime('%Y-%m')\n",
    "revenue_per_user_pivot = orders_grouped_by_cohorts.pivot_table(index='first_buy_ts_month',columns='cohort_lifetime',values='revenue_per_user',aggfunc='mean')\n",
    "revenue_per_user_pivot['a_bill'] = revenue_per_user_pivot.mean(axis=1)"
   ]
  },
  {
   "cell_type": "code",
   "execution_count": 47,
   "metadata": {},
   "outputs": [
    {
     "data": {
      "text/plain": [
       "<matplotlib.axes._subplots.AxesSubplot at 0x7f53df4e4c10>"
      ]
     },
     "execution_count": 47,
     "metadata": {},
     "output_type": "execute_result"
    },
    {
     "data": {
      "image/png": "[encoded data removed]",
      "text/plain": [
       "<Figure size 936x648 with 2 Axes>"
      ]
     },
     "metadata": {
      "needs_background": "light"
     },
     "output_type": "display_data"
    }
   ],
   "source": [
    "plt.figure(figsize=(13, 9))\n",
    "plt.title('ARPPU')\n",
    "sns.heatmap(revenue_per_user_pivot ,annot=True, fmt='.1f', linewidths=1, linecolor='grey')"
   ]
  },
  {
   "cell_type": "code",
   "execution_count": 48,
   "metadata": {},
   "outputs": [
    {
     "data": {
      "text/plain": [
       "<matplotlib.axes._subplots.AxesSubplot at 0x7f53dfb81590>"
      ]
     },
     "execution_count": 48,
     "metadata": {},
     "output_type": "execute_result"
    },
    {
     "data": {
      "image/png": "[encoded data removed]",
      "text/plain": [
       "<Figure size 936x648 with 2 Axes>"
      ]
     },
     "metadata": {
      "needs_background": "light"
     },
     "output_type": "display_data"
    }
   ],
   "source": [
    "ar = df_orders.groupby(['first_buy_ts_month','buy_ts_month']).agg({'revenue':'sum','uid':'count'})\n",
    "ar['arpu'] = ar['revenue'] / ar['uid']\n",
    "arpu = ar.pivot_table(index='first_buy_ts_month',columns='buy_ts_month',values='arpu',aggfunc='mean')\n",
    "arpu['bill'] = arpu.mean(axis=1)\n",
    "\n",
    "plt.figure(figsize=(13, 9))\n",
    "plt.title('ARPU')\n",
    "sns.heatmap(arpu,annot=True, fmt='.1f', linewidths=1, linecolor='grey')"
   ]
  },
  {
   "cell_type": "code",
   "execution_count": 49,
   "metadata": {},
   "outputs": [
    {
     "data": {
      "text/plain": [
       "4.6021160050390846e-14"
      ]
     },
     "execution_count": 49,
     "metadata": {},
     "output_type": "execute_result"
    }
   ],
   "source": [
    "df_orders['revenue'].sum() / df_orders['uid'].sum() # средний чек"
   ]
  },
  {
   "cell_type": "markdown",
   "metadata": {},
   "source": [
    "###### Промежуточный вывод"
   ]
  },
  {
   "cell_type": "markdown",
   "metadata": {},
   "source": [
    "В течение года средний чек находится примерно в среднем в одном диапозоне, можно отметить аномалии в зимние месяцы и поздней осени, это обусловленно большим кол-вом праздников и выходных"
   ]
  },
  {
   "cell_type": "markdown",
   "metadata": {},
   "source": [
    "---\n",
    "\n",
    "<div class=\"alert alert-block alert-success\">\n",
    "    \n",
    "\n",
    "### Комментарий от ревьюера\n",
    "\n",
    "В данном heatmap у тебя получилось рассчитать ARPPU - это полезный и наглядный показатель \n",
    "</div>\n",
    "\n",
    "---\n",
    "\n",
    "<div class=\"alert alert-block alert-danger\">\n",
    "    \n",
    "\n",
    "### Комментарий от ревьюера\n",
    "Но нужно также вывести метрику - средний чек - усредненное значение на пользователя\n",
    "    \n",
    "</div>\n",
    "</div>\n",
    "\n",
    "---\n"
   ]
  },
  {
   "cell_type": "markdown",
   "metadata": {},
   "source": [
    "---\n",
    "\n",
    "<div class=\"alert alert-block alert-warning\">\n",
    "    \n",
    "\n",
    "### Комментарий от ревьюера V3\n",
    "\n",
    "Круто, что ты вывел чек отдельно на графике, но хорошо бы его рассчитать отдельно для всех покупок (обычно как отношение суммы покупок к количеству заказов)\n",
    "\n",
    "</div>\n",
    "\n",
    "---\n"
   ]
  },
  {
   "cell_type": "markdown",
   "metadata": {},
   "source": [
    "---\n",
    "\n",
    "<div class=\"alert alert-block alert-success\">\n",
    "    \n",
    "\n",
    "### Комментарий от ревьюера V4\n",
    "\n",
    "ОК\n",
    "</div>\n",
    "\n",
    "---\n"
   ]
  },
  {
   "cell_type": "code",
   "execution_count": 50,
   "metadata": {},
   "outputs": [
    {
     "data": {
      "text/html": [
       "<div>\n",
       "<style scoped>\n",
       "    .dataframe tbody tr th:only-of-type {\n",
       "        vertical-align: middle;\n",
       "    }\n",
       "\n",
       "    .dataframe tbody tr th {\n",
       "        vertical-align: top;\n",
       "    }\n",
       "\n",
       "    .dataframe thead th {\n",
       "        text-align: right;\n",
       "    }\n",
       "</style>\n",
       "<table border=\"1\" class=\"dataframe\">\n",
       "  <thead>\n",
       "    <tr style=\"text-align: right;\">\n",
       "      <th></th>\n",
       "      <th>buy_ts</th>\n",
       "      <th>revenue</th>\n",
       "      <th>uid</th>\n",
       "      <th>first_buy_ts</th>\n",
       "      <th>first_buy_ts_month</th>\n",
       "      <th>buy_ts_month</th>\n",
       "    </tr>\n",
       "  </thead>\n",
       "  <tbody>\n",
       "    <tr>\n",
       "      <td>0</td>\n",
       "      <td>2017-06-01 00:10:00</td>\n",
       "      <td>17.00</td>\n",
       "      <td>10329302124590727494</td>\n",
       "      <td>2017-06-01 00:10:00</td>\n",
       "      <td>2017-06-01</td>\n",
       "      <td>2017-06-01</td>\n",
       "    </tr>\n",
       "    <tr>\n",
       "      <td>1</td>\n",
       "      <td>2017-06-01 00:25:00</td>\n",
       "      <td>0.55</td>\n",
       "      <td>11627257723692907447</td>\n",
       "      <td>2017-06-01 00:25:00</td>\n",
       "      <td>2017-06-01</td>\n",
       "      <td>2017-06-01</td>\n",
       "    </tr>\n",
       "    <tr>\n",
       "      <td>2</td>\n",
       "      <td>2017-06-01 00:27:00</td>\n",
       "      <td>0.37</td>\n",
       "      <td>17903680561304213844</td>\n",
       "      <td>2017-06-01 00:27:00</td>\n",
       "      <td>2017-06-01</td>\n",
       "      <td>2017-06-01</td>\n",
       "    </tr>\n",
       "    <tr>\n",
       "      <td>3</td>\n",
       "      <td>2017-06-01 00:29:00</td>\n",
       "      <td>0.55</td>\n",
       "      <td>16109239769442553005</td>\n",
       "      <td>2017-06-01 00:29:00</td>\n",
       "      <td>2017-06-01</td>\n",
       "      <td>2017-06-01</td>\n",
       "    </tr>\n",
       "    <tr>\n",
       "      <td>4</td>\n",
       "      <td>2017-06-01 07:58:00</td>\n",
       "      <td>0.37</td>\n",
       "      <td>14200605875248379450</td>\n",
       "      <td>2017-06-01 07:58:00</td>\n",
       "      <td>2017-06-01</td>\n",
       "      <td>2017-06-01</td>\n",
       "    </tr>\n",
       "    <tr>\n",
       "      <td>...</td>\n",
       "      <td>...</td>\n",
       "      <td>...</td>\n",
       "      <td>...</td>\n",
       "      <td>...</td>\n",
       "      <td>...</td>\n",
       "      <td>...</td>\n",
       "    </tr>\n",
       "    <tr>\n",
       "      <td>50410</td>\n",
       "      <td>2018-05-31 23:50:00</td>\n",
       "      <td>4.64</td>\n",
       "      <td>12296626599487328624</td>\n",
       "      <td>2018-05-31 23:50:00</td>\n",
       "      <td>2018-05-01</td>\n",
       "      <td>2018-05-01</td>\n",
       "    </tr>\n",
       "    <tr>\n",
       "      <td>50411</td>\n",
       "      <td>2018-05-31 23:50:00</td>\n",
       "      <td>5.80</td>\n",
       "      <td>11369640365507475976</td>\n",
       "      <td>2018-05-31 23:50:00</td>\n",
       "      <td>2018-05-01</td>\n",
       "      <td>2018-05-01</td>\n",
       "    </tr>\n",
       "    <tr>\n",
       "      <td>50412</td>\n",
       "      <td>2018-05-31 23:54:00</td>\n",
       "      <td>0.30</td>\n",
       "      <td>1786462140797698849</td>\n",
       "      <td>2018-05-31 23:54:00</td>\n",
       "      <td>2018-05-01</td>\n",
       "      <td>2018-05-01</td>\n",
       "    </tr>\n",
       "    <tr>\n",
       "      <td>50413</td>\n",
       "      <td>2018-05-31 23:56:00</td>\n",
       "      <td>3.67</td>\n",
       "      <td>3993697860786194247</td>\n",
       "      <td>2018-05-31 23:56:00</td>\n",
       "      <td>2018-05-01</td>\n",
       "      <td>2018-05-01</td>\n",
       "    </tr>\n",
       "    <tr>\n",
       "      <td>50414</td>\n",
       "      <td>2018-06-01 00:02:00</td>\n",
       "      <td>3.42</td>\n",
       "      <td>83872787173869366</td>\n",
       "      <td>2018-06-01 00:02:00</td>\n",
       "      <td>2018-06-01</td>\n",
       "      <td>2018-06-01</td>\n",
       "    </tr>\n",
       "  </tbody>\n",
       "</table>\n",
       "<p>50415 rows × 6 columns</p>\n",
       "</div>"
      ],
      "text/plain": [
       "                    buy_ts  revenue                   uid  \\\n",
       "0      2017-06-01 00:10:00    17.00  10329302124590727494   \n",
       "1      2017-06-01 00:25:00     0.55  11627257723692907447   \n",
       "2      2017-06-01 00:27:00     0.37  17903680561304213844   \n",
       "3      2017-06-01 00:29:00     0.55  16109239769442553005   \n",
       "4      2017-06-01 07:58:00     0.37  14200605875248379450   \n",
       "...                    ...      ...                   ...   \n",
       "50410  2018-05-31 23:50:00     4.64  12296626599487328624   \n",
       "50411  2018-05-31 23:50:00     5.80  11369640365507475976   \n",
       "50412  2018-05-31 23:54:00     0.30   1786462140797698849   \n",
       "50413  2018-05-31 23:56:00     3.67   3993697860786194247   \n",
       "50414  2018-06-01 00:02:00     3.42     83872787173869366   \n",
       "\n",
       "              first_buy_ts first_buy_ts_month buy_ts_month  \n",
       "0      2017-06-01 00:10:00         2017-06-01   2017-06-01  \n",
       "1      2017-06-01 00:25:00         2017-06-01   2017-06-01  \n",
       "2      2017-06-01 00:27:00         2017-06-01   2017-06-01  \n",
       "3      2017-06-01 00:29:00         2017-06-01   2017-06-01  \n",
       "4      2017-06-01 07:58:00         2017-06-01   2017-06-01  \n",
       "...                    ...                ...          ...  \n",
       "50410  2018-05-31 23:50:00         2018-05-01   2018-05-01  \n",
       "50411  2018-05-31 23:50:00         2018-05-01   2018-05-01  \n",
       "50412  2018-05-31 23:54:00         2018-05-01   2018-05-01  \n",
       "50413  2018-05-31 23:56:00         2018-05-01   2018-05-01  \n",
       "50414  2018-06-01 00:02:00         2018-06-01   2018-06-01  \n",
       "\n",
       "[50415 rows x 6 columns]"
      ]
     },
     "execution_count": 50,
     "metadata": {},
     "output_type": "execute_result"
    }
   ],
   "source": [
    "df_orders"
   ]
  },
  {
   "cell_type": "markdown",
   "metadata": {},
   "source": [
    "##### LTV"
   ]
  },
  {
   "cell_type": "code",
   "execution_count": 51,
   "metadata": {},
   "outputs": [],
   "source": [
    "first_orders = df_orders.groupby('uid').agg({'buy_ts_month': 'min'}).reset_index()\n",
    "first_orders.columns = ['uid', 'first_order_month']"
   ]
  },
  {
   "cell_type": "code",
   "execution_count": 52,
   "metadata": {},
   "outputs": [],
   "source": [
    "cohort_sizes = first_orders.groupby('first_order_month').agg({'uid': 'nunique'}).reset_index()\n",
    "cohort_sizes.columns = ['first_order_month', 'n_buyers']"
   ]
  },
  {
   "cell_type": "code",
   "execution_count": 53,
   "metadata": {},
   "outputs": [],
   "source": [
    "orders_lvt = pd.merge(df_orders,first_orders, on='uid')"
   ]
  },
  {
   "cell_type": "code",
   "execution_count": 54,
   "metadata": {},
   "outputs": [],
   "source": [
    "cohorts= orders_lvt.groupby(['first_order_month','buy_ts_month']).agg({'revenue': 'sum'}).reset_index()\n"
   ]
  },
  {
   "cell_type": "code",
   "execution_count": 55,
   "metadata": {},
   "outputs": [],
   "source": [
    "report = pd.merge(cohort_sizes, cohorts, on='first_order_month')\n"
   ]
  },
  {
   "cell_type": "code",
   "execution_count": 56,
   "metadata": {},
   "outputs": [],
   "source": [
    "report2 =  pd.merge(cohort_sizes, cohorts, on='first_order_month')"
   ]
  },
  {
   "cell_type": "code",
   "execution_count": 57,
   "metadata": {},
   "outputs": [],
   "source": [
    "margin_rate = 1\n",
    "    \n",
    "report['gp'] = report['revenue'] * margin_rate\n",
    "report['age'] = (report['buy_ts_month'] - report['first_order_month']) / np.timedelta64(1, 'M')\n",
    "report['age'] = report['age'].round().astype('int')\n",
    "report2 = report"
   ]
  },
  {
   "cell_type": "code",
   "execution_count": 58,
   "metadata": {},
   "outputs": [],
   "source": [
    "report['ltv'] = report['gp'] / report['n_buyers']\n",
    "output = report.pivot_table(\n",
    "       index='first_order_month', \n",
    "       columns='age', \n",
    "       values='ltv', \n",
    "       aggfunc='mean').cumsum(axis= 1)\n",
    "    \n"
   ]
  },
  {
   "cell_type": "code",
   "execution_count": 59,
   "metadata": {
    "scrolled": false
   },
   "outputs": [
    {
     "data": {
      "text/html": [
       "<div>\n",
       "<style scoped>\n",
       "    .dataframe tbody tr th:only-of-type {\n",
       "        vertical-align: middle;\n",
       "    }\n",
       "\n",
       "    .dataframe tbody tr th {\n",
       "        vertical-align: top;\n",
       "    }\n",
       "\n",
       "    .dataframe thead th {\n",
       "        text-align: right;\n",
       "    }\n",
       "</style>\n",
       "<table border=\"1\" class=\"dataframe\">\n",
       "  <thead>\n",
       "    <tr style=\"text-align: right;\">\n",
       "      <th>age</th>\n",
       "      <th>0</th>\n",
       "      <th>1</th>\n",
       "      <th>2</th>\n",
       "      <th>3</th>\n",
       "      <th>4</th>\n",
       "      <th>5</th>\n",
       "      <th>6</th>\n",
       "      <th>7</th>\n",
       "      <th>8</th>\n",
       "      <th>9</th>\n",
       "      <th>10</th>\n",
       "      <th>11</th>\n",
       "    </tr>\n",
       "    <tr>\n",
       "      <th>first_order_month</th>\n",
       "      <th></th>\n",
       "      <th></th>\n",
       "      <th></th>\n",
       "      <th></th>\n",
       "      <th></th>\n",
       "      <th></th>\n",
       "      <th></th>\n",
       "      <th></th>\n",
       "      <th></th>\n",
       "      <th></th>\n",
       "      <th></th>\n",
       "      <th></th>\n",
       "    </tr>\n",
       "  </thead>\n",
       "  <tbody>\n",
       "    <tr>\n",
       "      <td>2017-06-01</td>\n",
       "      <td>4.724414</td>\n",
       "      <td>5.20974</td>\n",
       "      <td>5.64738</td>\n",
       "      <td>6.60205</td>\n",
       "      <td>7.62458</td>\n",
       "      <td>8.36008</td>\n",
       "      <td>9.31052</td>\n",
       "      <td>9.89212</td>\n",
       "      <td>10.4453</td>\n",
       "      <td>11.0511</td>\n",
       "      <td>11.6224</td>\n",
       "      <td>11.8792</td>\n",
       "    </tr>\n",
       "    <tr>\n",
       "      <td>2017-07-01</td>\n",
       "      <td>6.010218</td>\n",
       "      <td>6.34543</td>\n",
       "      <td>6.96896</td>\n",
       "      <td>7.32794</td>\n",
       "      <td>7.50473</td>\n",
       "      <td>7.66077</td>\n",
       "      <td>7.78098</td>\n",
       "      <td>7.9228</td>\n",
       "      <td>8.08404</td>\n",
       "      <td>8.23118</td>\n",
       "      <td>8.38685</td>\n",
       "      <td></td>\n",
       "    </tr>\n",
       "    <tr>\n",
       "      <td>2017-08-01</td>\n",
       "      <td>5.276518</td>\n",
       "      <td>5.74851</td>\n",
       "      <td>6.20699</td>\n",
       "      <td>6.59827</td>\n",
       "      <td>7.09232</td>\n",
       "      <td>7.37586</td>\n",
       "      <td>7.58653</td>\n",
       "      <td>7.99153</td>\n",
       "      <td>8.28374</td>\n",
       "      <td>8.47172</td>\n",
       "      <td></td>\n",
       "      <td></td>\n",
       "    </tr>\n",
       "    <tr>\n",
       "      <td>2017-09-01</td>\n",
       "      <td>5.644529</td>\n",
       "      <td>6.76212</td>\n",
       "      <td>7.28305</td>\n",
       "      <td>11.2588</td>\n",
       "      <td>11.6594</td>\n",
       "      <td>12.3065</td>\n",
       "      <td>13.0081</td>\n",
       "      <td>13.2512</td>\n",
       "      <td>13.4352</td>\n",
       "      <td></td>\n",
       "      <td></td>\n",
       "      <td></td>\n",
       "    </tr>\n",
       "    <tr>\n",
       "      <td>2017-10-01</td>\n",
       "      <td>5.003733</td>\n",
       "      <td>5.5395</td>\n",
       "      <td>5.73089</td>\n",
       "      <td>5.88803</td>\n",
       "      <td>6.03959</td>\n",
       "      <td>6.15996</td>\n",
       "      <td>6.24477</td>\n",
       "      <td>6.36024</td>\n",
       "      <td></td>\n",
       "      <td></td>\n",
       "      <td></td>\n",
       "      <td></td>\n",
       "    </tr>\n",
       "    <tr>\n",
       "      <td>2017-11-01</td>\n",
       "      <td>5.154683</td>\n",
       "      <td>5.55392</td>\n",
       "      <td>5.75347</td>\n",
       "      <td>6.07842</td>\n",
       "      <td>6.22644</td>\n",
       "      <td>6.28032</td>\n",
       "      <td>6.39524</td>\n",
       "      <td></td>\n",
       "      <td></td>\n",
       "      <td></td>\n",
       "      <td></td>\n",
       "      <td></td>\n",
       "    </tr>\n",
       "    <tr>\n",
       "      <td>2017-12-01</td>\n",
       "      <td>4.738191</td>\n",
       "      <td>4.99856</td>\n",
       "      <td>5.92366</td>\n",
       "      <td>6.98894</td>\n",
       "      <td>7.30187</td>\n",
       "      <td>7.63991</td>\n",
       "      <td></td>\n",
       "      <td></td>\n",
       "      <td></td>\n",
       "      <td></td>\n",
       "      <td></td>\n",
       "      <td></td>\n",
       "    </tr>\n",
       "    <tr>\n",
       "      <td>2018-01-01</td>\n",
       "      <td>4.135636</td>\n",
       "      <td>4.43039</td>\n",
       "      <td>4.73468</td>\n",
       "      <td>4.87745</td>\n",
       "      <td>4.94015</td>\n",
       "      <td></td>\n",
       "      <td></td>\n",
       "      <td></td>\n",
       "      <td></td>\n",
       "      <td></td>\n",
       "      <td></td>\n",
       "      <td></td>\n",
       "    </tr>\n",
       "    <tr>\n",
       "      <td>2018-02-01</td>\n",
       "      <td>4.156987</td>\n",
       "      <td>4.43526</td>\n",
       "      <td>4.51378</td>\n",
       "      <td>4.58792</td>\n",
       "      <td></td>\n",
       "      <td></td>\n",
       "      <td></td>\n",
       "      <td></td>\n",
       "      <td></td>\n",
       "      <td></td>\n",
       "      <td></td>\n",
       "      <td></td>\n",
       "    </tr>\n",
       "    <tr>\n",
       "      <td>2018-03-01</td>\n",
       "      <td>4.838803</td>\n",
       "      <td>5.13969</td>\n",
       "      <td>5.45525</td>\n",
       "      <td></td>\n",
       "      <td></td>\n",
       "      <td></td>\n",
       "      <td></td>\n",
       "      <td></td>\n",
       "      <td></td>\n",
       "      <td></td>\n",
       "      <td></td>\n",
       "      <td></td>\n",
       "    </tr>\n",
       "    <tr>\n",
       "      <td>2018-04-01</td>\n",
       "      <td>4.657597</td>\n",
       "      <td>5.1892</td>\n",
       "      <td></td>\n",
       "      <td></td>\n",
       "      <td></td>\n",
       "      <td></td>\n",
       "      <td></td>\n",
       "      <td></td>\n",
       "      <td></td>\n",
       "      <td></td>\n",
       "      <td></td>\n",
       "      <td></td>\n",
       "    </tr>\n",
       "    <tr>\n",
       "      <td>2018-05-01</td>\n",
       "      <td>4.660562</td>\n",
       "      <td></td>\n",
       "      <td></td>\n",
       "      <td></td>\n",
       "      <td></td>\n",
       "      <td></td>\n",
       "      <td></td>\n",
       "      <td></td>\n",
       "      <td></td>\n",
       "      <td></td>\n",
       "      <td></td>\n",
       "      <td></td>\n",
       "    </tr>\n",
       "    <tr>\n",
       "      <td>2018-06-01</td>\n",
       "      <td>3.420000</td>\n",
       "      <td></td>\n",
       "      <td></td>\n",
       "      <td></td>\n",
       "      <td></td>\n",
       "      <td></td>\n",
       "      <td></td>\n",
       "      <td></td>\n",
       "      <td></td>\n",
       "      <td></td>\n",
       "      <td></td>\n",
       "      <td></td>\n",
       "    </tr>\n",
       "  </tbody>\n",
       "</table>\n",
       "</div>"
      ],
      "text/plain": [
       "age                      0        1        2        3        4        5   \\\n",
       "first_order_month                                                          \n",
       "2017-06-01         4.724414  5.20974  5.64738  6.60205  7.62458  8.36008   \n",
       "2017-07-01         6.010218  6.34543  6.96896  7.32794  7.50473  7.66077   \n",
       "2017-08-01         5.276518  5.74851  6.20699  6.59827  7.09232  7.37586   \n",
       "2017-09-01         5.644529  6.76212  7.28305  11.2588  11.6594  12.3065   \n",
       "2017-10-01         5.003733   5.5395  5.73089  5.88803  6.03959  6.15996   \n",
       "2017-11-01         5.154683  5.55392  5.75347  6.07842  6.22644  6.28032   \n",
       "2017-12-01         4.738191  4.99856  5.92366  6.98894  7.30187  7.63991   \n",
       "2018-01-01         4.135636  4.43039  4.73468  4.87745  4.94015            \n",
       "2018-02-01         4.156987  4.43526  4.51378  4.58792                     \n",
       "2018-03-01         4.838803  5.13969  5.45525                              \n",
       "2018-04-01         4.657597   5.1892                                       \n",
       "2018-05-01         4.660562                                                \n",
       "2018-06-01         3.420000                                                \n",
       "\n",
       "age                     6        7        8        9        10       11  \n",
       "first_order_month                                                        \n",
       "2017-06-01         9.31052  9.89212  10.4453  11.0511  11.6224  11.8792  \n",
       "2017-07-01         7.78098   7.9228  8.08404  8.23118  8.38685           \n",
       "2017-08-01         7.58653  7.99153  8.28374  8.47172                    \n",
       "2017-09-01         13.0081  13.2512  13.4352                             \n",
       "2017-10-01         6.24477  6.36024                                      \n",
       "2017-11-01         6.39524                                               \n",
       "2017-12-01                                                               \n",
       "2018-01-01                                                               \n",
       "2018-02-01                                                               \n",
       "2018-03-01                                                               \n",
       "2018-04-01                                                               \n",
       "2018-05-01                                                               \n",
       "2018-06-01                                                               "
      ]
     },
     "execution_count": 59,
     "metadata": {},
     "output_type": "execute_result"
    }
   ],
   "source": [
    "\n",
    "output.fillna('')"
   ]
  },
  {
   "cell_type": "code",
   "execution_count": 60,
   "metadata": {},
   "outputs": [
    {
     "data": {
      "image/png": "[encoded data removed]",
      "text/plain": [
       "<Figure size 936x648 with 2 Axes>"
      ]
     },
     "metadata": {
      "needs_background": "light"
     },
     "output_type": "display_data"
    }
   ],
   "source": [
    "plt.figure(figsize=(13, 9))\n",
    "plt.title('Cohorts: LTV')\n",
    "sns.heatmap(output, annot=True, fmt='.2f',vmin = 0, linewidths=1, linecolor='gray');"
   ]
  },
  {
   "cell_type": "code",
   "execution_count": 61,
   "metadata": {},
   "outputs": [
    {
     "data": {
      "text/html": [
       "<div>\n",
       "<style scoped>\n",
       "    .dataframe tbody tr th:only-of-type {\n",
       "        vertical-align: middle;\n",
       "    }\n",
       "\n",
       "    .dataframe tbody tr th {\n",
       "        vertical-align: top;\n",
       "    }\n",
       "\n",
       "    .dataframe thead th {\n",
       "        text-align: right;\n",
       "    }\n",
       "</style>\n",
       "<table border=\"1\" class=\"dataframe\">\n",
       "  <thead>\n",
       "    <tr style=\"text-align: right;\">\n",
       "      <th></th>\n",
       "      <th>first_order_month</th>\n",
       "      <th>n_buyers</th>\n",
       "      <th>buy_ts_month</th>\n",
       "      <th>revenue</th>\n",
       "      <th>gp</th>\n",
       "      <th>age</th>\n",
       "      <th>ltv</th>\n",
       "    </tr>\n",
       "  </thead>\n",
       "  <tbody>\n",
       "    <tr>\n",
       "      <td>0</td>\n",
       "      <td>2017-06-01</td>\n",
       "      <td>2023</td>\n",
       "      <td>2017-06-01</td>\n",
       "      <td>9557.49</td>\n",
       "      <td>9557.49</td>\n",
       "      <td>0</td>\n",
       "      <td>4.724414</td>\n",
       "    </tr>\n",
       "    <tr>\n",
       "      <td>1</td>\n",
       "      <td>2017-06-01</td>\n",
       "      <td>2023</td>\n",
       "      <td>2017-07-01</td>\n",
       "      <td>981.82</td>\n",
       "      <td>981.82</td>\n",
       "      <td>1</td>\n",
       "      <td>0.485329</td>\n",
       "    </tr>\n",
       "    <tr>\n",
       "      <td>2</td>\n",
       "      <td>2017-06-01</td>\n",
       "      <td>2023</td>\n",
       "      <td>2017-08-01</td>\n",
       "      <td>885.34</td>\n",
       "      <td>885.34</td>\n",
       "      <td>2</td>\n",
       "      <td>0.437637</td>\n",
       "    </tr>\n",
       "    <tr>\n",
       "      <td>3</td>\n",
       "      <td>2017-06-01</td>\n",
       "      <td>2023</td>\n",
       "      <td>2017-09-01</td>\n",
       "      <td>1931.30</td>\n",
       "      <td>1931.30</td>\n",
       "      <td>3</td>\n",
       "      <td>0.954671</td>\n",
       "    </tr>\n",
       "    <tr>\n",
       "      <td>4</td>\n",
       "      <td>2017-06-01</td>\n",
       "      <td>2023</td>\n",
       "      <td>2017-10-01</td>\n",
       "      <td>2068.58</td>\n",
       "      <td>2068.58</td>\n",
       "      <td>4</td>\n",
       "      <td>1.022531</td>\n",
       "    </tr>\n",
       "    <tr>\n",
       "      <td>...</td>\n",
       "      <td>...</td>\n",
       "      <td>...</td>\n",
       "      <td>...</td>\n",
       "      <td>...</td>\n",
       "      <td>...</td>\n",
       "      <td>...</td>\n",
       "      <td>...</td>\n",
       "    </tr>\n",
       "    <tr>\n",
       "      <td>74</td>\n",
       "      <td>2018-03-01</td>\n",
       "      <td>3533</td>\n",
       "      <td>2018-05-01</td>\n",
       "      <td>1114.87</td>\n",
       "      <td>1114.87</td>\n",
       "      <td>2</td>\n",
       "      <td>0.315559</td>\n",
       "    </tr>\n",
       "    <tr>\n",
       "      <td>75</td>\n",
       "      <td>2018-04-01</td>\n",
       "      <td>2276</td>\n",
       "      <td>2018-04-01</td>\n",
       "      <td>10600.69</td>\n",
       "      <td>10600.69</td>\n",
       "      <td>0</td>\n",
       "      <td>4.657597</td>\n",
       "    </tr>\n",
       "    <tr>\n",
       "      <td>76</td>\n",
       "      <td>2018-04-01</td>\n",
       "      <td>2276</td>\n",
       "      <td>2018-05-01</td>\n",
       "      <td>1209.92</td>\n",
       "      <td>1209.92</td>\n",
       "      <td>1</td>\n",
       "      <td>0.531599</td>\n",
       "    </tr>\n",
       "    <tr>\n",
       "      <td>77</td>\n",
       "      <td>2018-05-01</td>\n",
       "      <td>2988</td>\n",
       "      <td>2018-05-01</td>\n",
       "      <td>13925.76</td>\n",
       "      <td>13925.76</td>\n",
       "      <td>0</td>\n",
       "      <td>4.660562</td>\n",
       "    </tr>\n",
       "    <tr>\n",
       "      <td>78</td>\n",
       "      <td>2018-06-01</td>\n",
       "      <td>1</td>\n",
       "      <td>2018-06-01</td>\n",
       "      <td>3.42</td>\n",
       "      <td>3.42</td>\n",
       "      <td>0</td>\n",
       "      <td>3.420000</td>\n",
       "    </tr>\n",
       "  </tbody>\n",
       "</table>\n",
       "<p>79 rows × 7 columns</p>\n",
       "</div>"
      ],
      "text/plain": [
       "   first_order_month  n_buyers buy_ts_month   revenue        gp  age       ltv\n",
       "0         2017-06-01      2023   2017-06-01   9557.49   9557.49    0  4.724414\n",
       "1         2017-06-01      2023   2017-07-01    981.82    981.82    1  0.485329\n",
       "2         2017-06-01      2023   2017-08-01    885.34    885.34    2  0.437637\n",
       "3         2017-06-01      2023   2017-09-01   1931.30   1931.30    3  0.954671\n",
       "4         2017-06-01      2023   2017-10-01   2068.58   2068.58    4  1.022531\n",
       "..               ...       ...          ...       ...       ...  ...       ...\n",
       "74        2018-03-01      3533   2018-05-01   1114.87   1114.87    2  0.315559\n",
       "75        2018-04-01      2276   2018-04-01  10600.69  10600.69    0  4.657597\n",
       "76        2018-04-01      2276   2018-05-01   1209.92   1209.92    1  0.531599\n",
       "77        2018-05-01      2988   2018-05-01  13925.76  13925.76    0  4.660562\n",
       "78        2018-06-01         1   2018-06-01      3.42      3.42    0  3.420000\n",
       "\n",
       "[79 rows x 7 columns]"
      ]
     },
     "execution_count": 61,
     "metadata": {},
     "output_type": "execute_result"
    }
   ],
   "source": [
    "report"
   ]
  },
  {
   "cell_type": "markdown",
   "metadata": {},
   "source": [
    "Посчитали итоговый LTV для каждой кагорты.У кагорт проживших одинаковое кол -во врмени показатели в среднем одинаковые, однако у кагорт (2017.06 и 2017.09 ) резултаты выше за одинаковый период жизни чем у других кагорт, а у кагорты 2017.09 показатель LTV самый большой, хотя она короче на 3 месяца чем кагорта 2017.06"
   ]
  },
  {
   "cell_type": "markdown",
   "metadata": {},
   "source": [
    "---\n",
    "\n",
    "<div class=\"alert alert-block alert-danger\">\n",
    "    \n",
    "\n",
    "### Комментарий от ревьюера V3\n",
    "\n",
    "Не увидел ответа на вопрос по сравнимым периодам - все таки обрати внимание что LTV нужно сравнивать кумулятивно - т.е. Накопление идет за каждый прошедший период\n",
    "\n",
    "</div>\n",
    "\n",
    "---\n"
   ]
  },
  {
   "cell_type": "markdown",
   "metadata": {},
   "source": [
    "---\n",
    "\n",
    "<div class=\"alert alert-block alert-success\">\n",
    "    \n",
    "\n",
    "### Комментарий от ревьюера V4\n",
    "\n",
    "ОК\n",
    "</div>\n",
    "\n",
    "---\n"
   ]
  },
  {
   "cell_type": "markdown",
   "metadata": {},
   "source": [
    "---\n",
    "\n",
    "<div class=\"alert alert-block alert-warning\">\n",
    "    \n",
    "\n",
    "### Комментарий от ревьюера V5\n",
    "\n",
    "тут что то напутал с расчетом. В предыдущей версии было правильно\n",
    "    \n",
    "Второй `cumsum()` в 59 ячейке - лишний\n",
    "    \n",
    "</div>\n",
    "\n",
    "---\n"
   ]
  },
  {
   "cell_type": "markdown",
   "metadata": {},
   "source": [
    " ---\n",
    "\n",
    "<div class=\"alert alert-block alert-warning\">\n",
    "    \n",
    "\n",
    "### Комментарий от ревьюера V2\n",
    "    \n",
    "Исходные данные для LTV сформированы верно. Отлично!\n",
    "    \n",
    "При визуализации полезно использовать хитмап, а также показывать значение накопительно по периодам жизни - эта метрика показвает как растет LTV (можно использовать `.cumsum(axis=1)` при формировании `pivot_table`)\n",
    "</div>\n",
    "\n",
    "---\n"
   ]
  },
  {
   "cell_type": "markdown",
   "metadata": {},
   "source": [
    "---\n",
    "\n",
    "<div class=\"alert alert-block alert-danger\">\n",
    "    \n",
    "\n",
    "### Комментарий от ревьюера V2\n",
    "\n",
    "Тут стоит сравнить LTV для когорт проживших одинаковое количество периодов (например 6 месяцев) и сделать полезные для бизнеса выводы\n",
    "\n",
    "</div>\n",
    "\n",
    "---\n"
   ]
  },
  {
   "cell_type": "markdown",
   "metadata": {},
   "source": [
    "# --------------------------------------------------------------------------------------"
   ]
  },
  {
   "cell_type": "markdown",
   "metadata": {},
   "source": [
    "###### *Маркетинг*"
   ]
  },
  {
   "cell_type": "markdown",
   "metadata": {},
   "source": [
    "##### CAC"
   ]
  },
  {
   "cell_type": "code",
   "execution_count": 62,
   "metadata": {},
   "outputs": [
    {
     "data": {
      "text/html": [
       "<div>\n",
       "<style scoped>\n",
       "    .dataframe tbody tr th:only-of-type {\n",
       "        vertical-align: middle;\n",
       "    }\n",
       "\n",
       "    .dataframe tbody tr th {\n",
       "        vertical-align: top;\n",
       "    }\n",
       "\n",
       "    .dataframe thead th {\n",
       "        text-align: right;\n",
       "    }\n",
       "</style>\n",
       "<table border=\"1\" class=\"dataframe\">\n",
       "  <thead>\n",
       "    <tr style=\"text-align: right;\">\n",
       "      <th></th>\n",
       "      <th>source_id</th>\n",
       "      <th>dt</th>\n",
       "      <th>costs</th>\n",
       "    </tr>\n",
       "  </thead>\n",
       "  <tbody>\n",
       "    <tr>\n",
       "      <td>0</td>\n",
       "      <td>1</td>\n",
       "      <td>2017-06-01</td>\n",
       "      <td>75.20</td>\n",
       "    </tr>\n",
       "    <tr>\n",
       "      <td>1</td>\n",
       "      <td>1</td>\n",
       "      <td>2017-06-02</td>\n",
       "      <td>62.25</td>\n",
       "    </tr>\n",
       "    <tr>\n",
       "      <td>2</td>\n",
       "      <td>1</td>\n",
       "      <td>2017-06-03</td>\n",
       "      <td>36.53</td>\n",
       "    </tr>\n",
       "    <tr>\n",
       "      <td>3</td>\n",
       "      <td>1</td>\n",
       "      <td>2017-06-04</td>\n",
       "      <td>55.00</td>\n",
       "    </tr>\n",
       "    <tr>\n",
       "      <td>4</td>\n",
       "      <td>1</td>\n",
       "      <td>2017-06-05</td>\n",
       "      <td>57.08</td>\n",
       "    </tr>\n",
       "  </tbody>\n",
       "</table>\n",
       "</div>"
      ],
      "text/plain": [
       "   source_id          dt  costs\n",
       "0          1  2017-06-01  75.20\n",
       "1          1  2017-06-02  62.25\n",
       "2          1  2017-06-03  36.53\n",
       "3          1  2017-06-04  55.00\n",
       "4          1  2017-06-05  57.08"
      ]
     },
     "execution_count": 62,
     "metadata": {},
     "output_type": "execute_result"
    }
   ],
   "source": [
    "df_costs.head(5) #Таблица с маркетинговыми расходами по источникам"
   ]
  },
  {
   "cell_type": "code",
   "execution_count": 63,
   "metadata": {},
   "outputs": [],
   "source": [
    "df_costs['month']= df_costs['dt'].astype('datetime64[M]')"
   ]
  },
  {
   "cell_type": "code",
   "execution_count": 64,
   "metadata": {},
   "outputs": [],
   "source": [
    "# Сколько потратили по каждому месяцу\n",
    "total_sourch_costs = df_costs.pivot_table(index = 'source_id', values= 'costs',aggfunc = 'sum')\n"
   ]
  },
  {
   "cell_type": "markdown",
   "metadata": {},
   "source": [
    "#### Потрачено всего"
   ]
  },
  {
   "cell_type": "code",
   "execution_count": 65,
   "metadata": {},
   "outputs": [
    {
     "data": {
      "text/plain": [
       "costs    329131.62\n",
       "dtype: float64"
      ]
     },
     "execution_count": 65,
     "metadata": {},
     "output_type": "execute_result"
    }
   ],
   "source": [
    "total_sourch_costs.sum() # Потратили всего 320 тыс"
   ]
  },
  {
   "cell_type": "markdown",
   "metadata": {},
   "source": [
    "#### Затраты по источникам"
   ]
  },
  {
   "cell_type": "code",
   "execution_count": 66,
   "metadata": {},
   "outputs": [
    {
     "data": {
      "image/png": "[encoded data removed]",
      "text/plain": [
       "<Figure size 432x288 with 1 Axes>"
      ]
     },
     "metadata": {
      "needs_background": "light"
     },
     "output_type": "display_data"
    }
   ],
   "source": [
    "total_sourch_costs.sort_values(by = 'costs', ascending=False).plot(kind = 'bar')\n",
    "plt.title('Потрачено денег в разбивки по источникам'+ \"\\n\")\n",
    "plt.xlabel('Источники')\n",
    "plt.ylabel('Сумма')\n",
    "\n",
    "plt.show()"
   ]
  },
  {
   "cell_type": "markdown",
   "metadata": {},
   "source": [
    "Вывод всего было потрачено 320 тыс на все источники. Источник номер 3 оказался самым затратным (140тыс). Источники номер 10 и 9 менее всего затратные. "
   ]
  },
  {
   "cell_type": "code",
   "execution_count": 67,
   "metadata": {},
   "outputs": [],
   "source": [
    "visit_sourch_id = df_visits[['uid','source_id']] # источник по пользователям"
   ]
  },
  {
   "cell_type": "code",
   "execution_count": 68,
   "metadata": {},
   "outputs": [],
   "source": [
    "uid_orders_sourch = df_orders.merge(visit_sourch_id, on = 'uid') # присоединим к заказам"
   ]
  },
  {
   "cell_type": "code",
   "execution_count": 69,
   "metadata": {},
   "outputs": [],
   "source": [
    "#Сводная таблица по источникам\n",
    "uid_cac = uid_orders_sourch[['source_id','uid','buy_ts_month']]\n",
    "uid_cac_p= uid_cac.pivot_table(index=['source_id'], values ='uid', aggfunc= 'nunique')\n",
    "final_data = uid_cac_p.join(total_sourch_costs)\n",
    "\n",
    "final_data['cac'] = final_data['costs'] / final_data['uid']"
   ]
  },
  {
   "cell_type": "markdown",
   "metadata": {},
   "source": [
    "#### Стоимость одного пользователя из каждого источника (САС)"
   ]
  },
  {
   "cell_type": "code",
   "execution_count": 70,
   "metadata": {
    "scrolled": true
   },
   "outputs": [
    {
     "data": {
      "text/html": [
       "<div>\n",
       "<style scoped>\n",
       "    .dataframe tbody tr th:only-of-type {\n",
       "        vertical-align: middle;\n",
       "    }\n",
       "\n",
       "    .dataframe tbody tr th {\n",
       "        vertical-align: top;\n",
       "    }\n",
       "\n",
       "    .dataframe thead th {\n",
       "        text-align: right;\n",
       "    }\n",
       "</style>\n",
       "<table border=\"1\" class=\"dataframe\">\n",
       "  <thead>\n",
       "    <tr style=\"text-align: right;\">\n",
       "      <th></th>\n",
       "      <th>source_id</th>\n",
       "      <th>uid</th>\n",
       "      <th>costs</th>\n",
       "      <th>cac</th>\n",
       "    </tr>\n",
       "    <tr>\n",
       "      <th>source_id</th>\n",
       "      <th></th>\n",
       "      <th></th>\n",
       "      <th></th>\n",
       "      <th></th>\n",
       "    </tr>\n",
       "  </thead>\n",
       "  <tbody>\n",
       "    <tr>\n",
       "      <td>3</td>\n",
       "      <td>1</td>\n",
       "      <td>13846</td>\n",
       "      <td>141321.63</td>\n",
       "      <td>10.206676</td>\n",
       "    </tr>\n",
       "    <tr>\n",
       "      <td>4</td>\n",
       "      <td>1</td>\n",
       "      <td>14253</td>\n",
       "      <td>61073.60</td>\n",
       "      <td>4.284965</td>\n",
       "    </tr>\n",
       "    <tr>\n",
       "      <td>5</td>\n",
       "      <td>1</td>\n",
       "      <td>10156</td>\n",
       "      <td>51757.10</td>\n",
       "      <td>5.096209</td>\n",
       "    </tr>\n",
       "    <tr>\n",
       "      <td>2</td>\n",
       "      <td>1</td>\n",
       "      <td>7305</td>\n",
       "      <td>42806.04</td>\n",
       "      <td>5.859828</td>\n",
       "    </tr>\n",
       "    <tr>\n",
       "      <td>1</td>\n",
       "      <td>1</td>\n",
       "      <td>7138</td>\n",
       "      <td>20833.27</td>\n",
       "      <td>2.918642</td>\n",
       "    </tr>\n",
       "    <tr>\n",
       "      <td>10</td>\n",
       "      <td>1</td>\n",
       "      <td>1773</td>\n",
       "      <td>5822.49</td>\n",
       "      <td>3.283976</td>\n",
       "    </tr>\n",
       "    <tr>\n",
       "      <td>9</td>\n",
       "      <td>1</td>\n",
       "      <td>2793</td>\n",
       "      <td>5517.49</td>\n",
       "      <td>1.975471</td>\n",
       "    </tr>\n",
       "    <tr>\n",
       "      <td>7</td>\n",
       "      <td>1</td>\n",
       "      <td>1</td>\n",
       "      <td>NaN</td>\n",
       "      <td>NaN</td>\n",
       "    </tr>\n",
       "  </tbody>\n",
       "</table>\n",
       "</div>"
      ],
      "text/plain": [
       "           source_id    uid      costs        cac\n",
       "source_id                                        \n",
       "3                  1  13846  141321.63  10.206676\n",
       "4                  1  14253   61073.60   4.284965\n",
       "5                  1  10156   51757.10   5.096209\n",
       "2                  1   7305   42806.04   5.859828\n",
       "1                  1   7138   20833.27   2.918642\n",
       "10                 1   1773    5822.49   3.283976\n",
       "9                  1   2793    5517.49   1.975471\n",
       "7                  1      1        NaN        NaN"
      ]
     },
     "execution_count": 70,
     "metadata": {},
     "output_type": "execute_result"
    }
   ],
   "source": [
    "final_data.sort_values(by = 'costs', ascending=False) #Посчитаем стоимость привлечения пользователя по источникам"
   ]
  },
  {
   "cell_type": "markdown",
   "metadata": {},
   "source": [
    "Самая большая стоимость одного покупателя у источника номер 3 (10), а у источника 9 наименьшая стоимость одного покупателя."
   ]
  },
  {
   "cell_type": "markdown",
   "metadata": {},
   "source": [
    "---\n",
    "\n",
    "<div class=\"alert alert-block alert-success\">\n",
    "    \n",
    "\n",
    "### Комментарий от ревьюера V5\n",
    "\n",
    "CAC рассчитан корректно\n",
    "\n",
    "</div>\n",
    "\n",
    "---\n"
   ]
  },
  {
   "cell_type": "code",
   "execution_count": 71,
   "metadata": {},
   "outputs": [],
   "source": [
    "#Обьединим таблицы\n",
    "cost_pivot= df_costs.pivot_table(index = 'month', values= 'costs',aggfunc = 'sum')\n"
   ]
  },
  {
   "cell_type": "code",
   "execution_count": 72,
   "metadata": {},
   "outputs": [],
   "source": [
    "orders_rev =  df_orders[['buy_ts','revenue','first_buy_ts_month','buy_ts_month']]\n",
    "orders_rev =  orders_rev.pivot_table(index = 'buy_ts_month', values= 'revenue',aggfunc = 'sum')"
   ]
  },
  {
   "cell_type": "code",
   "execution_count": 73,
   "metadata": {},
   "outputs": [],
   "source": [
    "itog = cost_pivot.join(orders_rev)"
   ]
  },
  {
   "cell_type": "code",
   "execution_count": 74,
   "metadata": {},
   "outputs": [],
   "source": [
    "itog['proc'] = ((itog['revenue'] - itog['costs'])/ itog['costs']) *100"
   ]
  },
  {
   "cell_type": "markdown",
   "metadata": {},
   "source": [
    "Посчитаем выручку"
   ]
  },
  {
   "cell_type": "code",
   "execution_count": 75,
   "metadata": {
    "scrolled": true
   },
   "outputs": [
    {
     "data": {
      "text/html": [
       "<div>\n",
       "<style scoped>\n",
       "    .dataframe tbody tr th:only-of-type {\n",
       "        vertical-align: middle;\n",
       "    }\n",
       "\n",
       "    .dataframe tbody tr th {\n",
       "        vertical-align: top;\n",
       "    }\n",
       "\n",
       "    .dataframe thead th {\n",
       "        text-align: right;\n",
       "    }\n",
       "</style>\n",
       "<table border=\"1\" class=\"dataframe\">\n",
       "  <thead>\n",
       "    <tr style=\"text-align: right;\">\n",
       "      <th></th>\n",
       "      <th>costs</th>\n",
       "      <th>revenue</th>\n",
       "      <th>proc</th>\n",
       "    </tr>\n",
       "    <tr>\n",
       "      <th>month</th>\n",
       "      <th></th>\n",
       "      <th></th>\n",
       "      <th></th>\n",
       "    </tr>\n",
       "  </thead>\n",
       "  <tbody>\n",
       "    <tr>\n",
       "      <td>2017-06-01</td>\n",
       "      <td>18015.00</td>\n",
       "      <td>9557.49</td>\n",
       "      <td>-46.947044</td>\n",
       "    </tr>\n",
       "    <tr>\n",
       "      <td>2017-07-01</td>\n",
       "      <td>18240.59</td>\n",
       "      <td>12539.47</td>\n",
       "      <td>-31.255129</td>\n",
       "    </tr>\n",
       "    <tr>\n",
       "      <td>2017-08-01</td>\n",
       "      <td>14790.54</td>\n",
       "      <td>8758.78</td>\n",
       "      <td>-40.781202</td>\n",
       "    </tr>\n",
       "    <tr>\n",
       "      <td>2017-09-01</td>\n",
       "      <td>24368.91</td>\n",
       "      <td>18345.51</td>\n",
       "      <td>-24.717560</td>\n",
       "    </tr>\n",
       "    <tr>\n",
       "      <td>2017-10-01</td>\n",
       "      <td>36322.88</td>\n",
       "      <td>27987.70</td>\n",
       "      <td>-22.947465</td>\n",
       "    </tr>\n",
       "    <tr>\n",
       "      <td>2017-11-01</td>\n",
       "      <td>37907.88</td>\n",
       "      <td>27069.93</td>\n",
       "      <td>-28.590230</td>\n",
       "    </tr>\n",
       "    <tr>\n",
       "      <td>2017-12-01</td>\n",
       "      <td>38315.35</td>\n",
       "      <td>36388.60</td>\n",
       "      <td>-5.028663</td>\n",
       "    </tr>\n",
       "    <tr>\n",
       "      <td>2018-01-01</td>\n",
       "      <td>33518.52</td>\n",
       "      <td>19417.13</td>\n",
       "      <td>-42.070443</td>\n",
       "    </tr>\n",
       "    <tr>\n",
       "      <td>2018-02-01</td>\n",
       "      <td>32723.03</td>\n",
       "      <td>25560.54</td>\n",
       "      <td>-21.888224</td>\n",
       "    </tr>\n",
       "    <tr>\n",
       "      <td>2018-03-01</td>\n",
       "      <td>30415.27</td>\n",
       "      <td>28834.59</td>\n",
       "      <td>-5.196995</td>\n",
       "    </tr>\n",
       "    <tr>\n",
       "      <td>2018-04-01</td>\n",
       "      <td>22289.38</td>\n",
       "      <td>16858.06</td>\n",
       "      <td>-24.367300</td>\n",
       "    </tr>\n",
       "    <tr>\n",
       "      <td>2018-05-01</td>\n",
       "      <td>22224.27</td>\n",
       "      <td>20735.98</td>\n",
       "      <td>-6.696688</td>\n",
       "    </tr>\n",
       "  </tbody>\n",
       "</table>\n",
       "</div>"
      ],
      "text/plain": [
       "               costs   revenue       proc\n",
       "month                                    \n",
       "2017-06-01  18015.00   9557.49 -46.947044\n",
       "2017-07-01  18240.59  12539.47 -31.255129\n",
       "2017-08-01  14790.54   8758.78 -40.781202\n",
       "2017-09-01  24368.91  18345.51 -24.717560\n",
       "2017-10-01  36322.88  27987.70 -22.947465\n",
       "2017-11-01  37907.88  27069.93 -28.590230\n",
       "2017-12-01  38315.35  36388.60  -5.028663\n",
       "2018-01-01  33518.52  19417.13 -42.070443\n",
       "2018-02-01  32723.03  25560.54 -21.888224\n",
       "2018-03-01  30415.27  28834.59  -5.196995\n",
       "2018-04-01  22289.38  16858.06 -24.367300\n",
       "2018-05-01  22224.27  20735.98  -6.696688"
      ]
     },
     "execution_count": 75,
     "metadata": {},
     "output_type": "execute_result"
    }
   ],
   "source": [
    "itog"
   ]
  },
  {
   "cell_type": "markdown",
   "metadata": {},
   "source": [
    "#### ROMI"
   ]
  },
  {
   "cell_type": "markdown",
   "metadata": {},
   "source": [
    "Создадим таблицу для подсчета ROMI"
   ]
  },
  {
   "cell_type": "code",
   "execution_count": 76,
   "metadata": {},
   "outputs": [],
   "source": [
    "month_cost = df_costs.groupby('month').sum()"
   ]
  },
  {
   "cell_type": "code",
   "execution_count": 77,
   "metadata": {},
   "outputs": [],
   "source": [
    "report_new = report.merge(month_cost, left_on = 'first_order_month', right_on = 'month')"
   ]
  },
  {
   "cell_type": "code",
   "execution_count": 78,
   "metadata": {},
   "outputs": [],
   "source": [
    "report_new['cac'] = report_new['costs'] / report_new['n_buyers']"
   ]
  },
  {
   "cell_type": "code",
   "execution_count": 79,
   "metadata": {},
   "outputs": [],
   "source": [
    "report_new['romi'] = report_new['ltv'] / report_new['cac']\n",
    "output2 = report_new.pivot_table(\n",
    "        index='first_order_month', \n",
    "        columns='age', \n",
    "        values='romi', \n",
    "        aggfunc='mean')\n",
    "\n",
    "output2 = output2.cumsum(axis=1).round(2)"
   ]
  },
  {
   "cell_type": "code",
   "execution_count": 80,
   "metadata": {},
   "outputs": [
    {
     "data": {
      "text/plain": [
       "<matplotlib.axes._subplots.AxesSubplot at 0x7f53df4ef210>"
      ]
     },
     "execution_count": 80,
     "metadata": {},
     "output_type": "execute_result"
    },
    {
     "data": {
      "image/png": "[encoded data removed]",
      "text/plain": [
       "<Figure size 936x648 with 2 Axes>"
      ]
     },
     "metadata": {
      "needs_background": "light"
     },
     "output_type": "display_data"
    }
   ],
   "source": [
    "plt.figure(figsize=(13, 9))\n",
    "plt.title('ROMI')\n",
    "sns.heatmap(output2 ,annot=True, fmt='.1f', linewidths=1, linecolor='grey')"
   ]
  },
  {
   "cell_type": "markdown",
   "metadata": {},
   "source": [
    "Расходы окупили только в 2 когортах. В когорте 2017.06.01 расходы окупились на 1.3, в когорте 2017.09.01 расходы окупились на 1.4. Более ранние кагорты близки к окупаемости"
   ]
  },
  {
   "cell_type": "markdown",
   "metadata": {},
   "source": [
    "---\n",
    "\n",
    "<div class=\"alert alert-block alert-success\">\n",
    "    \n",
    "\n",
    "### Комментарий от ревьюера V5\n",
    "\n",
    "ROMI рассчитан верно - супер!!!\n",
    "\n",
    "</div>\n",
    "\n",
    "---\n"
   ]
  },
  {
   "cell_type": "markdown",
   "metadata": {},
   "source": [
    "---\n",
    "\n",
    "<div class=\"alert alert-block alert-danger\">\n",
    "    \n",
    "\n",
    "### Комментарий от ревьюера V4\n",
    "\n",
    "Тут ты немного напутал в расчетах: у нас сумма маркетинговых затрат ок 320тыс. У тебя же на графике - по 3 источнику - ок. 1 млн. Проверь расчеты и агрегацию в таблице `reort`.\n",
    "    \n",
    "Расходы на 3 источник примерно 140 тыс\n",
    "    \n",
    "Из-за некорректной агрегации затрат - далее тоже расчеты не совсем корректные.\n",
    "\n",
    "</div>\n",
    "\n",
    "---\n"
   ]
  },
  {
   "cell_type": "markdown",
   "metadata": {},
   "source": [
    "---\n",
    "\n",
    "<div class=\"alert alert-block alert-danger\">\n",
    "    \n",
    "\n",
    "### Комментарий от ревьюера V4\n",
    "\n",
    "Здесь тоже необходимо проверить расчет - т.к. ROMI не может уменьшаться по периодам - это отношение LTV / CAC - а он со временем не уменьшается  \n",
    "\n",
    "</div>\n",
    "\n",
    "---\n"
   ]
  },
  {
   "cell_type": "markdown",
   "metadata": {},
   "source": [
    "---\n",
    "\n",
    "<div class=\"alert alert-block alert-danger\">\n",
    "    \n",
    "\n",
    "### Комментарий от ревьюера V3\n",
    "\n",
    "Стоит проверить, сформулировать и отразить явно расчеты и выводы по следующим метрикам:\n",
    "- САС - стоимость привлечения (по источникам и по когортам).\n",
    "- ROMI - окупаемость маркетинговых затрат по когортам\n",
    "- Если на графике выше - ROMI - он очень завышен - нужно проверить расчеты, а также заголовок графика\n",
    "- Хорошо ьы добавить комментарии к расчетам и графикам, а также промежуточные выводы - не очень понятно, что происходит в этом разделе\n",
    "\n",
    "</div>\n",
    "\n",
    "---\n"
   ]
  },
  {
   "cell_type": "markdown",
   "metadata": {},
   "source": [
    "# Итоговый вывод"
   ]
  },
  {
   "cell_type": "markdown",
   "metadata": {},
   "source": [
    "##### I Продукт\n",
    " * DAU  — количество уникальных пользователей в день = 907\n",
    " * WAU  — количество уникальных пользователей в неделю = 5716\n",
    " * MAU  — количество уникальных пользователей в месяц = 23228\n",
    " * Кол - во сессий в день на человека  = 1.082\n",
    " * Кол -во сессий в день = 987\n",
    " \n",
    "*sticky factor*\n",
    " * sticky_wau = 15.884409\n",
    " * sticky_mau = 3.90897\n",
    " \n",
    "По продукту мы видим неплохие итоговые результаты. В среднем сессия длится 5-6 минту,в день мы имеем в районе 1000 сессий. Sticky factor показывает, что небольшая часть пользователей возвращается в течение месяца. Исходя из результатов Retention Rate мы можем сделать выводы, что в среднем в течение след месяцев, идет постепенное снижение, самое резкое снижение в среднем на 93% во всех кагортах после 1 месяца использования\n",
    "##### II Продажи\n",
    "\n",
    "Пользователи начинают покупать в первый месяц использования. Больше всего людей взаимодействуют с ЯндексАвишой в первый ж месяц, это обусловленно спецификой бизнеса т.к. люди в целом не ходят часто на концерты или в театр. Поэтому они приходят в ЯндексАфишу покупает сразу ж билет на меропрития и на долгое время забывают о ней.\n",
    "Средний чек, достигает наибольшей велечины в кагортах (2017.06 и 2017.09 и 2017.12). Наибольшее LTV в кагортах (2017.06 и 2017.09 и 2017.12)\n",
    "\n",
    "##### III Маркетинг\n",
    "Источники номер 1,9,10 окупаются, а остальные нет. Особенно источник номер 3 на него затрат больше всего, а оккупается он меньше всего. ROMI окуплся только в 2 кагортах 2017.06.01 и 2017.09.01. Остальные источники близки к окупаемости"
   ]
  },
  {
   "cell_type": "markdown",
   "metadata": {},
   "source": [
    "# Рекомендации"
   ]
  },
  {
   "cell_type": "markdown",
   "metadata": {},
   "source": [
    "Cтоит обратить внимание на рекламные источники, особенно на источник 3( он самый затратный и самый убыточный). С него есть смысл перераспределить расходны на источники 9 и 10( затраты на них наименьше, а окупаемость наибольшая."
   ]
  },
  {
   "cell_type": "markdown",
   "metadata": {},
   "source": [
    "---\n",
    "\n",
    "<div class=\"alert alert-block alert-success\">\n",
    "    \n",
    "\n",
    "### Комментарий от ревьюера V5\n",
    "\n",
    "Крутой и подробный блок выводов. Молодец, что добавил рекомендации. \n",
    "\n",
    "</div>\n",
    "\n",
    "---\n"
   ]
  },
  {
   "cell_type": "markdown",
   "metadata": {},
   "source": [
    "---\n",
    "\n",
    "<div class=\"alert alert-block alert-danger\">\n",
    "    \n",
    "\n",
    "### Комментарий от ревьюера V2\n",
    "\n",
    "Не увидел значений САС по источникам, полезно вывести их в отдельной таблице. Графики тоже стоит прокомментирвоать более развернуто - не очень понятно, что они иллюстрируют\n",
    "\n",
    "Напомню, что САС - затраты на привлечение одного пользователя (для проверки у нас 320т затрат и 50т покупок и еще меньше уникальных пользователей - разделив 320т на количество пользователей найдешь примерное значение CAC - сравни его с полученным)\n",
    "    \n",
    "Не забудь вывод по разделу\n",
    "    \n",
    "\n",
    "</div>\n",
    "\n",
    "---\n"
   ]
  },
  {
   "cell_type": "markdown",
   "metadata": {},
   "source": [
    "---\n",
    "\n",
    "<div class=\"alert alert-block alert-danger\">\n",
    "    \n",
    "\n",
    "### Комментарий от ревьюера V2\n",
    "\n",
    "Стоит проверить расчеты по ROMI - он получился очень завышенным.\n",
    "\n",
    "</div>\n",
    "\n",
    "---\n"
   ]
  },
  {
   "cell_type": "markdown",
   "metadata": {},
   "source": [
    "---\n",
    "\n",
    "<div class=\"alert alert-block alert-danger\">\n",
    "    \n",
    "\n",
    "### Комментарий от ревьюера V2\n",
    "\n",
    "Получатели твоего отчета хотели бы видеть более развернутый вывод и с бизнес-контекстом :)\n",
    "\n",
    "</div>\n",
    "\n",
    "---\n"
   ]
  },
  {
   "cell_type": "markdown",
   "metadata": {},
   "source": [
    "---\n",
    "\n",
    "<div class=\"alert alert-block alert-danger\">\n",
    "    \n",
    "\n",
    "### Комментарий от ревьюера\n",
    "    \n",
    "Последний блок с выводами должен содержать общие выводы по работе (если у пользователя не хватает знаний или времени чтобы вникнуть в расчеты работы, из выводов можно сразу получить всю нужную информацию о проекте), которые содержат выжимку по всем разделам исследования (предобработка, активность пользователей, продажи и т.д.)\n",
    "\n",
    "    \n",
    "Также полезно выделить блок \"Рекомендации\"\n",
    "\n",
    "</div>\n",
    "\n",
    "---\n"
   ]
  },
  {
   "cell_type": "markdown",
   "metadata": {},
   "source": [
    "---\n",
    "\n",
    "<div class=\"alert alert-block alert-warning\">\n",
    "    \n",
    "\n",
    "### Общий комментарий от ревьюера\n",
    "\n",
    "У тебя получилась хорошая работа. Ты пишешь чистый код, формулируешь корректные комментарии, делаешь верные расчеты.\n",
    "    \n",
    "Но есть некоторые неточности, которые я отметил в своих комментариях выше - их нужно устранить.\n",
    "    \n",
    "Жду исправленную версию  :)\n",
    "</div>\n",
    "\n",
    "---\n"
   ]
  },
  {
   "cell_type": "markdown",
   "metadata": {},
   "source": [
    "---\n",
    "\n",
    "<div class=\"alert alert-block alert-warning\">\n",
    "    \n",
    "\n",
    "### Общий комментарий от ревьюера V3\n",
    "\n",
    "Ты отлично поработал с замечанияи, но пока не получилось устранить все критичные замечания. \n",
    "    \n",
    "Исправляй скорее\n",
    "    \n",
    "</div>\n",
    "\n",
    "---\n"
   ]
  },
  {
   "cell_type": "markdown",
   "metadata": {},
   "source": [
    "---\n",
    "\n",
    "<div class=\"alert alert-block alert-success\">\n",
    "    \n",
    "\n",
    "### Общий Комментарий от ревьюера V5\n",
    "\n",
    "Отлично! Спасибо за глубокие доработки.\n",
    "    \n",
    "Помни, что всегда можешь обратиться за разъяснениями к преподавателю по проекту\n",
    "     \n",
    "Работа принята. Поздравляю со сдачей проекта :)\n",
    "\n",
    "</div>\n",
    "\n",
    "---\n"
   ]
  }
 ],
 "metadata": {
  "kernelspec": {
   "display_name": "Python 3",
   "language": "python",
   "name": "python3"
  },
  "language_info": {
   "codemirror_mode": {
    "name": "ipython",
    "version": 3
   },
   "file_extension": ".py",
   "mimetype": "text/x-python",
   "name": "python",
   "nbconvert_exporter": "python",
   "pygments_lexer": "ipython3",
   "version": "3.7.6"
  }
 },
 "nbformat": 4,
 "nbformat_minor": 2
}
